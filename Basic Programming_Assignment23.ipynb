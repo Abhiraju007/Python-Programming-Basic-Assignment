{
 "cells": [
  {
   "cell_type": "markdown",
   "id": "2ca5b403",
   "metadata": {},
   "source": [
    "Question 1\n",
    "Create a function that takes a number as an argument and returns True or False depending on whether the number is symmetrical or not. A number is symmetrical when it is the same as its reverse.\n",
    "Examples\n",
    "is_symmetrical(7227) ➞ True\n",
    "\n",
    "is_symmetrical(12567) ➞ False\n",
    "\n",
    "is_symmetrical(44444444) ➞ True\n",
    "\n",
    "is_symmetrical(9939) ➞ False\n",
    "\n",
    "is_symmetrical(1112111) ➞ True\n"
   ]
  },
  {
   "cell_type": "code",
   "execution_count": 7,
   "id": "dfa287a8",
   "metadata": {},
   "outputs": [
    {
     "name": "stdout",
     "output_type": "stream",
     "text": [
      "7227 ➞ True\n",
      "12567 ➞ False\n",
      "44444444 ➞ True\n",
      "9939 ➞ False\n",
      "1112111 ➞ True\n"
     ]
    }
   ],
   "source": [
    "#Ans:-1\n",
    "\n",
    "def is_symmetrical(n):\n",
    "    rev = str(n)[::-1]\n",
    "    if rev == str(n):\n",
    "        print(f'{n} ➞ {True}')\n",
    "    else:\n",
    "        print(f'{n} ➞ {False}')\n",
    "        \n",
    "is_symmetrical(7227)\n",
    "\n",
    "is_symmetrical(12567)\n",
    "\n",
    "is_symmetrical(44444444)\n",
    "\n",
    "is_symmetrical(9939)\n",
    "\n",
    "is_symmetrical(1112111)"
   ]
  },
  {
   "cell_type": "markdown",
   "id": "24f26372",
   "metadata": {},
   "source": [
    "Question 2\n",
    "Given a string of numbers separated by a comma and space, return the product of the numbers.\n",
    "Examples\n",
    "multiply_nums(\"2, 3\") ➞ 6\n",
    "\n",
    "multiply_nums(\"1, 2, 3, 4\") ➞ 24\n",
    "\n",
    "multiply_nums(\"54, 75, 453, 0\") ➞ 0\n",
    "\n",
    "multiply_nums(\"10, -2\") ➞ -20\n"
   ]
  },
  {
   "cell_type": "code",
   "execution_count": 8,
   "id": "c3a02062",
   "metadata": {},
   "outputs": [
    {
     "name": "stdout",
     "output_type": "stream",
     "text": [
      "['1', '2', '3', '4'] ➞ 24\n",
      "['54', '75', '453', '0'] ➞ 0\n",
      "['10', '-2'] ➞ -20\n"
     ]
    }
   ],
   "source": [
    "#Ans:-2\n",
    "def multiply_nums(s):\n",
    "    s = s.replace(' ', \"\")\n",
    "    s = s.split(',')\n",
    "    su = 1\n",
    "    for i in s:\n",
    "        su = su*int(i)\n",
    "    print(f'{s} ➞ {su}')\n",
    "    \n",
    "\n",
    "multiply_nums(\"1, 2, 3, 4\")\n",
    "\n",
    "multiply_nums(\"54, 75, 453, 0\")\n",
    "\n",
    "multiply_nums(\"10, -2\")\n",
    "    "
   ]
  },
  {
   "cell_type": "markdown",
   "id": "a4f96231",
   "metadata": {},
   "source": [
    "Question 3\n",
    "Create a function that squares every digit of a number.\n",
    "Examples\n",
    "square_digits(9119) ➞ 811181\n",
    "\n",
    "square_digits(2483) ➞ 416649\n",
    "\n",
    "square_digits(3212) ➞ 9414\n",
    "Notes\n",
    "The function receives an integer and must return an integer.\n"
   ]
  },
  {
   "cell_type": "code",
   "execution_count": 9,
   "id": "fa79badf",
   "metadata": {},
   "outputs": [
    {
     "name": "stdout",
     "output_type": "stream",
     "text": [
      "9119 ➞ 811181\n",
      "2483 ➞ 416649\n",
      "3212 ➞ 9414\n"
     ]
    }
   ],
   "source": [
    "Ans:-3\n",
    "\n",
    "def square_digits(num):\n",
    "    z = ''.join(str(int(i)**2) for i in str(num))\n",
    "    print(f'{num} ➞ {int(z)}')\n",
    "\n",
    "square_digits(9119)\n",
    "\n",
    "square_digits(2483)\n",
    "\n",
    "square_digits(3212)"
   ]
  },
  {
   "cell_type": "markdown",
   "id": "c460f323",
   "metadata": {},
   "source": [
    "Question 4\n",
    "Create a function that sorts a list and removes all duplicate items from it.\n",
    "Examples\n",
    "setify([1, 3, 3, 5, 5]) ➞ [1, 3, 5]\n",
    "\n",
    "setify([4, 4, 4, 4]) ➞ [4]\n",
    "\n",
    "setify([5, 7, 8, 9, 10, 15]) ➞ [5, 7, 8, 9, 10, 15]\n",
    "\n",
    "setify([3, 3, 3, 2, 1]) ➞ [1, 2, 3]\n"
   ]
  },
  {
   "cell_type": "code",
   "execution_count": 10,
   "id": "546666cf",
   "metadata": {},
   "outputs": [
    {
     "name": "stdout",
     "output_type": "stream",
     "text": [
      "[1, 3, 3, 5, 5] ➞ [1, 3, 5]\n",
      "[4, 4, 4, 4] ➞ [4]\n",
      "[5, 7, 8, 9, 10, 15] ➞ [5, 7, 8, 9, 10, 15]\n",
      "[3, 3, 3, 2, 1] ➞ [1, 2, 3]\n"
     ]
    }
   ],
   "source": [
    "#Ans:-4\n",
    "def setify(n):\n",
    "    z = list(set(n))\n",
    "    print(f'{n} ➞ {z}')\n",
    "    \n",
    "setify([1, 3, 3, 5, 5])\n",
    "\n",
    "setify([4, 4, 4, 4])\n",
    "\n",
    "setify([5, 7, 8, 9, 10, 15])\n",
    "\n",
    "setify([3, 3, 3, 2, 1])"
   ]
  },
  {
   "cell_type": "markdown",
   "id": "4aa3b4ab",
   "metadata": {},
   "source": [
    "Question 5\n",
    "Create a function that returns the mean of all digits.\n",
    "Examples\n",
    "mean(42) ➞ 3\n",
    "\n",
    "mean(12345) ➞ 3\n",
    "\n",
    "mean(666) ➞ 6\n",
    "Notes\n",
    "•\tThe mean of all digits is the sum of digits / how many digits there are (e.g. mean of digits in 512 is (5+1+2)/3(number of digits) = 8/3=2).\n",
    "•\tThe mean will always be an integer.\n"
   ]
  },
  {
   "cell_type": "code",
   "execution_count": 17,
   "id": "ea63f268",
   "metadata": {},
   "outputs": [
    {
     "name": "stdout",
     "output_type": "stream",
     "text": [
      "42 ➞ 3\n",
      "12345 ➞ 3\n",
      "666 ➞ 6\n"
     ]
    }
   ],
   "source": [
    "#Ans:5\n",
    "\n",
    "def mean(n):\n",
    "    N = len(str(n))\n",
    "    sum = mean = 0\n",
    "    \n",
    "    for i in str(n):\n",
    "        sum += int(i)\n",
    "    print(f'{n} ➞ {int(sum/N)}' )\n",
    "\n",
    "mean(42)\n",
    "\n",
    "mean(12345)\n",
    "\n",
    "mean(666)"
   ]
  }
 ],
 "metadata": {
  "kernelspec": {
   "display_name": "Python 3 (ipykernel)",
   "language": "python",
   "name": "python3"
  },
  "language_info": {
   "codemirror_mode": {
    "name": "ipython",
    "version": 3
   },
   "file_extension": ".py",
   "mimetype": "text/x-python",
   "name": "python",
   "nbconvert_exporter": "python",
   "pygments_lexer": "ipython3",
   "version": "3.9.7"
  }
 },
 "nbformat": 4,
 "nbformat_minor": 5
}
