{
 "cells": [
  {
   "cell_type": "markdown",
   "id": "8afb5446",
   "metadata": {},
   "source": [
    "Question1. Write a function that stutters a word as if someone is struggling to read it. The first two letters are repeated twice with an ellipsis ... and space after each, and then the word is pronounced with a question mark ?.\n",
    "Examples\n",
    "stutter(\"incredible\") ➞ \"in... in... incredible?\"\n",
    "\n",
    "stutter(\"enthusiastic\") ➞ \"en... en... enthusiastic?\"\n",
    "\n",
    "stutter(\"outstanding\") ➞ \"ou... ou... outstanding?\"\n",
    "\n",
    "Hint :- Assume all input is in lower case and at least two characters long.\n"
   ]
  },
  {
   "cell_type": "code",
   "execution_count": 3,
   "id": "8efa7187",
   "metadata": {},
   "outputs": [
    {
     "name": "stdout",
     "output_type": "stream",
     "text": [
      "Enter a word: Outstanding\n",
      "Ou........Ou........Outstanding?\n"
     ]
    }
   ],
   "source": [
    "#Ans:1\n",
    "def stutters(word):\n",
    "    return(2*(word[:2]+'........'))+word +'?'\n",
    "word = input('Enter a word: ')\n",
    "print(stutters(word))"
   ]
  },
  {
   "cell_type": "markdown",
   "id": "734aff05",
   "metadata": {},
   "source": [
    "Question 2.Create a function that takes an angle in radians and returns the corresponding angle in degrees rounded to one decimal place.\n",
    "Examples\n",
    "radians_to_degrees(1) ➞ 57.3\n",
    "\n",
    "radians_to_degrees(20) ➞ 1145.9\n",
    "\n",
    "radians_to_degrees(50) ➞ 2864.8\n"
   ]
  },
  {
   "cell_type": "code",
   "execution_count": 8,
   "id": "28f3ffc6",
   "metadata": {},
   "outputs": [
    {
     "name": "stdout",
     "output_type": "stream",
     "text": [
      "Enter the Radian: 1\n",
      "Degree = 57.324840764331206\n"
     ]
    }
   ],
   "source": [
    "#Ans:2\n",
    "def ra_to_de(radian):\n",
    "    pi = 3.14\n",
    "    degree = radian*(180/pi)\n",
    "    return degree\n",
    "radian = float(int(input(\"Enter the Radian: \")))\n",
    "print(\"Degree =\",ra_to_de(radian))"
   ]
  },
  {
   "cell_type": "code",
   "execution_count": null,
   "id": "f1dcec0a",
   "metadata": {},
   "outputs": [],
   "source": [
    "Question 3. In this challenge, establish if a given integer num is a Curzon number. If 1 plus 2 elevated to num is exactly divisible by 1 plus 2 multiplied by num, then num is a Curzon number.\n",
    "Given a non-negative integer num, implement a function that returns True if num is a Curzon number, or False otherwise.\n",
    "Examples\n",
    "is_curzon(5) ➞ True\n",
    "# 2 ** 5 + 1 = 33\n",
    "# 2 * 5 + 1 = 11\n",
    "# 33 is a multiple of 11\n",
    "\n",
    "is_curzon(10) ➞ False\n",
    "# 2 ** 10 + 1 = 1025\n",
    "# 2 * 10 + 1 = 21\n",
    "# 1025 is not a multiple of 21\n",
    "\n",
    "is_curzon(14) ➞ True\n",
    "# 2 ** 14 + 1 = 16385\n",
    "# 2 * 14 + 1 = 29\n",
    "# 16385 is a multiple of 29\n"
   ]
  },
  {
   "cell_type": "code",
   "execution_count": 1,
   "id": "12b67d0a",
   "metadata": {},
   "outputs": [
    {
     "name": "stdout",
     "output_type": "stream",
     "text": [
      "Enter the number: 4\n",
      "4 is not a curzon number\n",
      "Enter the number: 2\n",
      "2 is a curzon number\n",
      "Enter the number: 10\n",
      "10 is not a curzon number\n",
      "Enter the number: 31\n",
      "31 is not a curzon number\n"
     ]
    }
   ],
   "source": [
    "#Ans:3\n",
    "\n",
    "def is_curzon():\n",
    "    n = int(input(\"Enter the number: \"))\n",
    "    if(pow(2,n)+1)%((2*n)+1) == 0:\n",
    "        print(f'{n} is a curzon number')\n",
    "    else:\n",
    "        print(f'{n} is not a curzon number') \n",
    "        \n",
    "for x in range(4):\n",
    "    is_curzon()\n"
   ]
  },
  {
   "cell_type": "markdown",
   "id": "3e42b718",
   "metadata": {},
   "source": [
    "Question 4.Given the side length x find the area of a hexagon.\n",
    " \n",
    "Examples\n",
    "area_of_hexagon(1) ➞ 2.6\n",
    "\n",
    "area_of_hexagon(2) ➞ 10.4\n",
    "\n",
    "area_of_hexagon(3) ➞ 23.4\n"
   ]
  },
  {
   "cell_type": "code",
   "execution_count": 5,
   "id": "d1713a0c",
   "metadata": {},
   "outputs": [
    {
     "name": "stdout",
     "output_type": "stream",
     "text": [
      "Enter the length: 6\n",
      "Area:  93.5307\n"
     ]
    }
   ],
   "source": [
    "#Ans:4\n",
    "import math\n",
    "def area_of_hexa(s):\n",
    "    return((3*math.sqrt(3)*(sidelength*sidelength))/2);\n",
    "\n",
    "sidelength = float(input(\"Enter the length: \"))\n",
    "print(\"Area: \",\"{0:.04f}\".format(area_of_hexa(sidelength)))"
   ]
  },
  {
   "cell_type": "code",
   "execution_count": null,
   "id": "78db73ba",
   "metadata": {},
   "outputs": [],
   "source": [
    "Question 5. Create a function that returns a base-2 (binary) representation of a base-10 (decimal) string number. To convert is simple: ((2) means base-2 and (10) means base-10) 010101001(2) = 1 + 8 + 32 + 128.\n",
    "Going from right to left, the value of the most right bit is 1, now from that every bit to the left will be x2 the value, value of an 8 bit binary numbers are (256, 128, 64, 32, 16, 8, 4, 2, 1).\n",
    "Examples\n",
    "binary(1) ➞ \"1\"\n",
    "# 1*1 = 1\n",
    "\n",
    "binary(5) ➞ \"101\"\n",
    "# 1*1 + 1*4 = 5\n",
    "\n",
    "binary(10) ➞ \"1010\"\n",
    "# 1*2 + 1*8 = 10\n"
   ]
  },
  {
   "cell_type": "code",
   "execution_count": null,
   "id": "8841c240",
   "metadata": {},
   "outputs": [],
   "source": [
    "def getbinary():\n",
    "    n = int(input(\"Enter a number: \"))\n",
    "    out_num = bin(n).replace('0b', '')\n",
    "    print(f'Binary of {n} ➞ {out_num}' )\n",
    "\n",
    "for x in range(3):\n",
    "    getbinary()"
   ]
  }
 ],
 "metadata": {
  "kernelspec": {
   "display_name": "Python 3 (ipykernel)",
   "language": "python",
   "name": "python3"
  },
  "language_info": {
   "codemirror_mode": {
    "name": "ipython",
    "version": 3
   },
   "file_extension": ".py",
   "mimetype": "text/x-python",
   "name": "python",
   "nbconvert_exporter": "python",
   "pygments_lexer": "ipython3",
   "version": "3.9.7"
  }
 },
 "nbformat": 4,
 "nbformat_minor": 5
}
