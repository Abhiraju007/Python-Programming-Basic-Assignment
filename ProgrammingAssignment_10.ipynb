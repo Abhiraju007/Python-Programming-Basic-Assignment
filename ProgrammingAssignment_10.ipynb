{
 "cells": [
  {
   "cell_type": "markdown",
   "metadata": {},
   "source": [
    "Ques:-1.Write a Python program to find sum of elements in list?"
   ]
  },
  {
   "cell_type": "code",
   "execution_count": 4,
   "metadata": {},
   "outputs": [
    {
     "name": "stdout",
     "output_type": "stream",
     "text": [
      "sum of elements in list is 359\n"
     ]
    }
   ],
   "source": [
    "#Ans1:-\n",
    "l = [3,8,7,9,10,322]\n",
    "total =sum(l)\n",
    "print(\"sum of elements in list is {}\".format(total))\n",
    "\n"
   ]
  },
  {
   "cell_type": "markdown",
   "metadata": {},
   "source": [
    "Ques2.\tWrite a Python program to  Multiply all numbers in the list?"
   ]
  },
  {
   "cell_type": "code",
   "execution_count": 2,
   "metadata": {},
   "outputs": [
    {
     "name": "stdout",
     "output_type": "stream",
     "text": [
      "960\n"
     ]
    }
   ],
   "source": [
    "#Ans:-2\n",
    "def multiply(n):\n",
    "    result = 1\n",
    "    for x in n:\n",
    "        result = result*x\n",
    "    return result\n",
    "n = [2,8,20,3]\n",
    "print(multiply(n))"
   ]
  },
  {
   "cell_type": "markdown",
   "metadata": {},
   "source": [
    "Ques3:-\tWrite a Python program to find smallest number in a list?"
   ]
  },
  {
   "cell_type": "code",
   "execution_count": 3,
   "metadata": {},
   "outputs": [
    {
     "name": "stdout",
     "output_type": "stream",
     "text": [
      "5\n"
     ]
    }
   ],
   "source": [
    "#Ans:3\n",
    "n = [5,6,78,98,100]\n",
    "x = min(n)\n",
    "print(x)"
   ]
  },
  {
   "cell_type": "code",
   "execution_count": null,
   "metadata": {},
   "outputs": [],
   "source": [
    "Ques4:-\tWrite a Python program to find largest number in a list?"
   ]
  },
  {
   "cell_type": "code",
   "execution_count": 5,
   "metadata": {},
   "outputs": [
    {
     "name": "stdout",
     "output_type": "stream",
     "text": [
      "100\n"
     ]
    }
   ],
   "source": [
    "#Ans:-4\n",
    "n = [5,6,78,100,98]\n",
    "x = max(n)\n",
    "print(x)"
   ]
  },
  {
   "cell_type": "markdown",
   "metadata": {},
   "source": [
    "Ques:-5.\tWrite a Python program to find second largest number in a list?"
   ]
  },
  {
   "cell_type": "code",
   "execution_count": 11,
   "metadata": {},
   "outputs": [
    {
     "name": "stdout",
     "output_type": "stream",
     "text": [
      " Second Largest number is:  90\n"
     ]
    }
   ],
   "source": [
    "#Ans:-5\n",
    "l1 = [30,48,3,100,90,75] \n",
    "l1.sort()\n",
    "print(\" Second Largest number is: \",l1[-2])\n"
   ]
  },
  {
   "cell_type": "markdown",
   "metadata": {},
   "source": [
    "Ques:-6.\tWrite a Python program to find N largest elements from a list?"
   ]
  },
  {
   "cell_type": "code",
   "execution_count": 16,
   "metadata": {},
   "outputs": [
    {
     "name": "stdout",
     "output_type": "stream",
     "text": [
      " N Largest number is:  [75, 90, 100]\n"
     ]
    }
   ],
   "source": [
    "#Ans:-6\n",
    "l1 = [30,48,3,100,90,75]\n",
    "n = 3\n",
    "l1.sort()\n",
    "print(\" N Largest number is: \",l1[-n:])         "
   ]
  },
  {
   "cell_type": "markdown",
   "metadata": {},
   "source": [
    "Ques:-7.\tWrite a Python program to print even numbers in a list?"
   ]
  },
  {
   "cell_type": "code",
   "execution_count": 18,
   "metadata": {},
   "outputs": [
    {
     "name": "stdout",
     "output_type": "stream",
     "text": [
      "2 4 96 42 "
     ]
    }
   ],
   "source": [
    "#Ans:-7\n",
    "l2 = [2,4,7,77,96,42,33,21]\n",
    "for i in l2:\n",
    "    if i%2 == 0:\n",
    "        print(i, end =  \" \")"
   ]
  },
  {
   "cell_type": "markdown",
   "metadata": {},
   "source": [
    "Ques:-8.\tWrite a Python program to print odd numbers in a List?"
   ]
  },
  {
   "cell_type": "code",
   "execution_count": 22,
   "metadata": {},
   "outputs": [
    {
     "name": "stdout",
     "output_type": "stream",
     "text": [
      "7 77 33 21 "
     ]
    }
   ],
   "source": [
    "#Ans:-8\n",
    "l2 = [2,4,7,77,96,42,33,21]\n",
    "for i in l2:\n",
    "    if i%2 != 0:\n",
    "        print(i, end =  \" \")"
   ]
  },
  {
   "cell_type": "markdown",
   "metadata": {},
   "source": [
    "Ques:-9.\tWrite a Python program to Remove empty List from List?"
   ]
  },
  {
   "cell_type": "code",
   "execution_count": 30,
   "metadata": {},
   "outputs": [
    {
     "name": "stdout",
     "output_type": "stream",
     "text": [
      "[1, 2, 6, 7, 9, 32, 10]\n"
     ]
    }
   ],
   "source": [
    "#Ans:-9\n",
    "list = [1,2,6,7,9,[],32,[],[],[],10]\n",
    "r =[]\n",
    "for i in list:\n",
    "    if i != []:\n",
    "        r.append(i)\n",
    "    else:\n",
    "        continue\n",
    "print(r)"
   ]
  },
  {
   "cell_type": "markdown",
   "metadata": {},
   "source": [
    "Ques:-10.\tWrite a Python program to Cloning or Copying a list?"
   ]
  },
  {
   "cell_type": "code",
   "execution_count": 2,
   "metadata": {},
   "outputs": [
    {
     "name": "stdout",
     "output_type": "stream",
     "text": [
      "original list [3, 28, 26, 32, 55, 76]\n",
      "list after cloning [3, 28, 26, 32, 55, 76]\n"
     ]
    }
   ],
   "source": [
    "#Ans:-10\n",
    "def clone(li):\n",
    "    copy_li = li[:]\n",
    "    return copy_li\n",
    "li = [3,28,26,32,55,76]\n",
    "l12 = clone(li)\n",
    "print(\"original list\",li)\n",
    "print(\"list after cloning\",li)\n",
    "        "
   ]
  },
  {
   "cell_type": "markdown",
   "metadata": {},
   "source": [
    "Ques:-11\tWrite a Python program to Count occurrences of an element in a list?"
   ]
  },
  {
   "cell_type": "code",
   "execution_count": 43,
   "metadata": {},
   "outputs": [
    {
     "name": "stdout",
     "output_type": "stream",
     "text": [
      "Enter a digit Count occurrences of an element in a list4\n",
      "4 has occured 2 times\n"
     ]
    }
   ],
   "source": [
    "#Ans:-11\n",
    "l = [2,3,4,2,3,4,5,7,7,6,1,46,2,13,52,1,32,42,3]\n",
    "n = int(input(\"Enter a digit Count occurrences of an element in a list\"))\n",
    "print(\"{} has occured {} times\".format(n,l.count(n)))"
   ]
  },
  {
   "cell_type": "code",
   "execution_count": null,
   "metadata": {},
   "outputs": [],
   "source": []
  }
 ],
 "metadata": {
  "kernelspec": {
   "display_name": "Python 3",
   "language": "python",
   "name": "python3"
  },
  "language_info": {
   "codemirror_mode": {
    "name": "ipython",
    "version": 3
   },
   "file_extension": ".py",
   "mimetype": "text/x-python",
   "name": "python",
   "nbconvert_exporter": "python",
   "pygments_lexer": "ipython3",
   "version": "3.8.5"
  }
 },
 "nbformat": 4,
 "nbformat_minor": 4
}
