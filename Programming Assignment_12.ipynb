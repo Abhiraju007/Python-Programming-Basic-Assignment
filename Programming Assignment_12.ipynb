{
 "cells": [
  {
   "cell_type": "markdown",
   "id": "48c79926",
   "metadata": {},
   "source": [
    "Ques:-1.\tWrite a Python program to Extract Unique values dictionary values?"
   ]
  },
  {
   "cell_type": "code",
   "execution_count": 5,
   "id": "76b87190",
   "metadata": {},
   "outputs": [
    {
     "name": "stdout",
     "output_type": "stream",
     "text": [
      "Original List {'Sachin': 'Batsmen', 'Ganguly': 'Batsmen', 'Sehwag': 'Batsmen', 'Zahir': 'Bowler', 'Munaf Patel': 'Bowler', 'Harbhajan': 'Bowler'}\n",
      "Unique dictionary Value:  {'Batsmen', 'Bowler'}\n"
     ]
    }
   ],
   "source": [
    "#Ans:-1\n",
    "Dic = {'Sachin':'Batsmen',\n",
    "      'Ganguly': 'Batsmen',\n",
    "      'Sehwag': 'Batsmen',\n",
    "      'Zahir': 'Bowler',\n",
    "      'Munaf Patel': 'Bowler',\n",
    "      'Harbhajan': 'Bowler'}\n",
    "print(\"Original List\", Dic)\n",
    "Unique = set(val for dic in Dic for val in Dic.values())\n",
    "print(\"Unique dictionary Value: \",Unique)"
   ]
  },
  {
   "cell_type": "code",
   "execution_count": null,
   "id": "9d0ad370",
   "metadata": {},
   "outputs": [],
   "source": [
    "Ques:-2.\tWrite a Python program to find the sum of all items in a dictionary?"
   ]
  },
  {
   "cell_type": "code",
   "execution_count": 15,
   "id": "9e2fc410",
   "metadata": {},
   "outputs": [
    {
     "name": "stdout",
     "output_type": "stream",
     "text": [
      "sum of all items in a dictionary is 1050\n"
     ]
    }
   ],
   "source": [
    "#Ans:-2\n",
    "def dic(item):\n",
    "    sum = 0\n",
    "    for i in item:\n",
    "        sum = sum + item[i]\n",
    "    return sum\n",
    "sum1 = {'Ram': 100, 'shyam': 200, 'Manohar': 750}\n",
    "print('sum of all items in a dictionary is', dic(sum1))"
   ]
  },
  {
   "cell_type": "markdown",
   "id": "34443705",
   "metadata": {},
   "source": [
    "Ques:-3.\tWrite a Python program to Merging two Dictionaries?"
   ]
  },
  {
   "cell_type": "code",
   "execution_count": 22,
   "id": "408e48f1",
   "metadata": {},
   "outputs": [
    {
     "name": "stdout",
     "output_type": "stream",
     "text": [
      "Merging two Dictionaries is {'Ram': 100, 'shyam': 200, 'Manohar': 750, 'Abdul': 100, 'Rahim': 300, 'Lala': 400}\n"
     ]
    }
   ],
   "source": [
    "#Ans:-3\n",
    "def merge_Dic(dict1,dict2):\n",
    "    x = {**dict1,**dict2}\n",
    "    return x;\n",
    "dict1 ={'Ram': 100, 'shyam': 200, 'Manohar': 750}\n",
    "dict2 = {'Abdul': 100, 'Rahim': 300, 'Lala': 400}\n",
    "dict3 = merge_Dic(dict1,dict2)\n",
    "print('Merging two Dictionaries is',dict3)"
   ]
  },
  {
   "cell_type": "markdown",
   "id": "7dd2ce79",
   "metadata": {},
   "source": [
    "Ques:-4.\tWrite a Python program to convert key-values list to flat dictionary?"
   ]
  },
  {
   "cell_type": "code",
   "execution_count": 12,
   "id": "45f48c28",
   "metadata": {},
   "outputs": [
    {
     "name": "stdout",
     "output_type": "stream",
     "text": [
      "Original Dictionary is:  {'Company': ['NTT Data', 'Accenture', 'TCS'], 'Team': ['Developer', 'Testing', 'Analytics']}\n",
      "Dictionary after flattened:  {'NTT Data': 'Developer', 'Accenture': 'Testing', 'TCS': 'Analytics'}\n"
     ]
    }
   ],
   "source": [
    "#Ans:-4\n",
    "flat = {'Company':['NTT Data','Accenture','TCS'],\n",
    "       'Team'    :['Developer','Testing','Analytics']}\n",
    "print('Original Dictionary is: ', flat)\n",
    "result = dict(zip(flat['Company'],flat['Team']))\n",
    "print('Dictionary after flattened: ',result)"
   ]
  },
  {
   "cell_type": "markdown",
   "id": "7ace6f87",
   "metadata": {},
   "source": [
    "Ques:-5.\tWrite a Python program to insertion at the beginning in OrderedDict?"
   ]
  },
  {
   "cell_type": "code",
   "execution_count": 37,
   "id": "6aacabc3",
   "metadata": {},
   "outputs": [
    {
     "name": "stdout",
     "output_type": "stream",
     "text": [
      "Dictionary Before insertion:  OrderedDict([('Abhishek', '4'), ('Anshuman', '5'), ('Saumya', '6')]) OrderedDict([('Rajpal', '1'), ('Murlipal', '2'), ('Rampal', '3')])\n",
      "Dictionary After insertion:  OrderedDict([('Rajpal', '1'), ('Murlipal', '2'), ('Rampal', '3'), ('Abhishek', '4'), ('Anshuman', '5'), ('Saumya', '6')])\n"
     ]
    }
   ],
   "source": [
    "#Ans:-5\n",
    "from collections import OrderedDict\n",
    "\n",
    "Dict1 = OrderedDict([('Abhishek','4'),('Anshuman','5'),('Saumya','6')])\n",
    "Dict2 = OrderedDict([('Rajpal','1'),('Murlipal','2'),('Rampal','3')])\n",
    "print('Dictionary Before insertion: ',str(Dict1),str(Dict2))\n",
    "inst = OrderedDict(list(Dict2.items()) + list(Dict1.items()))\n",
    "print('Dictionary After insertion: ',inst)"
   ]
  },
  {
   "cell_type": "markdown",
   "id": "e6733475",
   "metadata": {},
   "source": [
    "Ques:-6 Write a Python program to check order of character in string using OrderedDict()\t"
   ]
  },
  {
   "cell_type": "code",
   "execution_count": 3,
   "id": "2aa74933",
   "metadata": {},
   "outputs": [
    {
     "name": "stdout",
     "output_type": "stream",
     "text": [
      "Enter a Sentence: GeeksforGeeks\n",
      "This character in string is not in Ordered Dict\n"
     ]
    }
   ],
   "source": [
    "#Ans:-6\n",
    "from collections import OrderedDict\n",
    "def check_order(a,b):\n",
    "    dict = OrderedDict.fromkeys(a)\n",
    "    sum = 0\n",
    "    for key, value in dict.items():\n",
    "        if(key == b[sum]):\n",
    "            sum = sum + 1\n",
    "        if(sum == (len(b))):\n",
    "            return 'This character in string is in Ordered Dict'\n",
    "        else:\n",
    "            return 'This character in string is not in Ordered Dict'\n",
    "a = input('Enter a Sentence: ')\n",
    "b = 'a,A,b,B,c,C,d,D,e,E,f,F,g,G,h,H,i,I,j,J,k,K,l,L,m,M,n,N,o,O,p,P,q,Q,r,R,s,S,t,T,u,U,v,V,w,W,x,X,y,Y,z,Z'\n",
    "print(check_order(a,b))"
   ]
  },
  {
   "cell_type": "code",
   "execution_count": null,
   "id": "872a368d",
   "metadata": {},
   "outputs": [],
   "source": [
    "Ques:-7.\tWrite a Python program to sort Python Dictionaries by Key or Value?"
   ]
  },
  {
   "cell_type": "code",
   "execution_count": 83,
   "id": "ab445f87",
   "metadata": {},
   "outputs": [
    {
     "name": "stdout",
     "output_type": "stream",
     "text": [
      "Ordered Dictionary by Key:  OrderedDict([('Abhinav', '3'), ('Abhishek', '1'), ('Raju', '2'), ('Ramprasad', '4')])\n"
     ]
    }
   ],
   "source": [
    "#Ans:-7\n",
    "#Creates a sorted dictionary (sorted by Key)\n",
    "from collections import OrderedDict\n",
    "key ={'Abhishek': '1', 'Raju': '2', 'Abhinav': '3', 'Ramprasad': '4'}\n",
    "key1 = OrderedDict(sorted(key.items(),key = lambda key:key[0]))\n",
    "print('Ordered Dictionary by Key: ', key1)\n",
    "\n",
    "#Dictionary Created by Value\n",
    "\n"
   ]
  },
  {
   "cell_type": "code",
   "execution_count": 79,
   "id": "7c64229a",
   "metadata": {},
   "outputs": [
    {
     "name": "stdout",
     "output_type": "stream",
     "text": [
      "OrderedDict([('Raju', '2'), ('Ramprasad', '4'), ('Abhinav', '7'), ('Abhishek', '8')])\n"
     ]
    }
   ],
   "source": [
    "# Creates a sorted dictionary (sorted by Value)\n",
    "from collections import OrderedDict\n",
    "key ={'Abhishek': '8', 'Raju': '2', 'Abhinav': '7', 'Ramprasad': '4'}\n",
    "key1 = OrderedDict(sorted(key.items(),key = lambda key:key[1]))\n",
    "print(key1)"
   ]
  },
  {
   "cell_type": "code",
   "execution_count": null,
   "id": "a3527886",
   "metadata": {},
   "outputs": [],
   "source": [
    "\n"
   ]
  },
  {
   "cell_type": "code",
   "execution_count": null,
   "id": "74e63d05",
   "metadata": {},
   "outputs": [],
   "source": [
    "\n"
   ]
  },
  {
   "cell_type": "code",
   "execution_count": null,
   "id": "ca21ec41",
   "metadata": {},
   "outputs": [],
   "source": []
  }
 ],
 "metadata": {
  "kernelspec": {
   "display_name": "Python 3",
   "language": "python",
   "name": "python3"
  },
  "language_info": {
   "codemirror_mode": {
    "name": "ipython",
    "version": 3
   },
   "file_extension": ".py",
   "mimetype": "text/x-python",
   "name": "python",
   "nbconvert_exporter": "python",
   "pygments_lexer": "ipython3",
   "version": "3.8.5"
  }
 },
 "nbformat": 4,
 "nbformat_minor": 5
}
