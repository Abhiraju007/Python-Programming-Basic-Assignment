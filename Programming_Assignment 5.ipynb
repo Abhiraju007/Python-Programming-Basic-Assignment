{
 "cells": [
  {
   "cell_type": "markdown",
   "metadata": {},
   "source": [
    "Ques 1.\tWrite a Python Program to Find LCM?"
   ]
  },
  {
   "cell_type": "code",
   "execution_count": 1,
   "metadata": {},
   "outputs": [
    {
     "name": "stdout",
     "output_type": "stream",
     "text": [
      "Enter 1st Number\n",
      "4\n",
      "Enter 2nd Number\n",
      "5\n",
      "Lcm of 4 and 5 is 20\n"
     ]
    }
   ],
   "source": [
    "#Ans:-1\n",
    "a = int(input(\"Enter 1st Number\\n\"))\n",
    "b = int(input(\"Enter 2nd Number\\n\"))\n",
    "maxnum = max(a,b)\n",
    "while(True):\n",
    "    if(maxnum%a == 0 and maxnum%b == 0):\n",
    "        break\n",
    "    maxnum = maxnum + 1\n",
    "print(\"Lcm of {} and {} is {}\".format(a,b,maxnum))\n"
   ]
  },
  {
   "cell_type": "markdown",
   "metadata": {},
   "source": [
    "Ques:-2.\tWrite a Python Program to Find HCF?"
   ]
  },
  {
   "cell_type": "code",
   "execution_count": 2,
   "metadata": {},
   "outputs": [
    {
     "name": "stdout",
     "output_type": "stream",
     "text": [
      "Enter 1st Number\n",
      "13\n",
      "Enter 2nd Number\n",
      "78\n",
      "HCF Of 13 and 78 is 13\n"
     ]
    }
   ],
   "source": [
    "#Ans:-2\n",
    "n1 = int(input(\"Enter 1st Number\\n\")) \n",
    "n2 = int(input(\"Enter 2nd Number\\n\")) \n",
    "if n1>n2:\n",
    "    min = n1 \n",
    "else:\n",
    "    m = n2\n",
    "for i in range(1,m+1):\n",
    "    if n1%i==0 and n2%i==0:\n",
    "        HCF = i\n",
    "print(\"HCF Of {} and {} is {}\".format(n1,n2,HCF))\n"
   ]
  },
  {
   "cell_type": "markdown",
   "metadata": {},
   "source": [
    "Ques:-3\tWrite a Python Program to Convert Decimal to Binary, Octal and Hexadecimal?"
   ]
  },
  {
   "cell_type": "code",
   "execution_count": 5,
   "metadata": {},
   "outputs": [
    {
     "name": "stdout",
     "output_type": "stream",
     "text": [
      "Enter Decimal Number\n",
      "14\n",
      "14 is equal to 0b1110  in Binary number\n",
      "14 is equal to 0o16  in Octal number\n",
      "14 is equal to 0xe  in Hexadecimal number\n"
     ]
    }
   ],
   "source": [
    "#Ans:-3\n",
    "Dec = int(input(\"Enter Decimal Number\\n\"))\n",
    "print(Dec,\"is equal to\",bin(Dec),\" in Binary number\")\n",
    "print(Dec,\"is equal to\",oct(Dec),\" in Octal number\")\n",
    "print(Dec,\"is equal to\",hex(Dec),\" in Hexadecimal number\")"
   ]
  },
  {
   "cell_type": "markdown",
   "metadata": {},
   "source": [
    "Ques 4.\tWrite a Python Program To Find ASCII value of a character?"
   ]
  },
  {
   "cell_type": "code",
   "execution_count": 27,
   "metadata": {},
   "outputs": [
    {
     "name": "stdout",
     "output_type": "stream",
     "text": [
      "Enter a ASCII Value\n",
      "z\n",
      "The ASCII value of  'z'  is 122\n"
     ]
    }
   ],
   "source": [
    "#Ans:-4\n",
    "char = input(\"Enter a ASCII Value\\n\")\n",
    "print(\"The ASCII value of  '\"+ char+ \"'  is\", ord(char))"
   ]
  },
  {
   "cell_type": "code",
   "execution_count": 22,
   "metadata": {},
   "outputs": [
    {
     "name": "stdout",
     "output_type": "stream",
     "text": [
      "Enter a ASCII Value\n",
      "B\n",
      "The ASCII value of 'B' is 66\n"
     ]
    }
   ],
   "source": [
    "  \n"
   ]
  },
  {
   "cell_type": "markdown",
   "metadata": {},
   "source": [
    "Ques:-5.\tWrite a Python Program to Make a Simple Calculator with 4 basic mathematical operations?"
   ]
  },
  {
   "cell_type": "code",
   "execution_count": 33,
   "metadata": {},
   "outputs": [
    {
     "name": "stdout",
     "output_type": "stream",
     "text": [
      "Select operations\n",
      "\n",
      "Add\n",
      "Subtraction\n",
      "Multiplication\n",
      "Division\n",
      "Enter your Operation(1/2/3/4)4\n",
      "Enter First Number\n",
      "6\n",
      "Enter Second Number\n",
      "7\n",
      "6 / 7 = 0.8571428571428571\n"
     ]
    }
   ],
   "source": [
    "#Ans:-4\n",
    "def Addition(a,b):\n",
    "    return a + b\n",
    "    \n",
    "    \n",
    "def Subtraction(a,b):\n",
    "    return a - b\n",
    "    \n",
    "    \n",
    "def multiply(a,b):\n",
    "    return a*b\n",
    "    \n",
    "def divide(a,b):\n",
    "    return a/b\n",
    "\n",
    "\n",
    "print(\"Select operations\\n\")\n",
    "print(\"Add\")\n",
    "print(\"Subtraction\")\n",
    "print(\"Multiplication\")\n",
    "print(\"Division\")\n",
    "\n",
    "Calculate = input(\"Enter your Operation(1/2/3/4)\")\n",
    "a = int(input(\"Enter First Number\\n\"))\n",
    "b = int(input(\"Enter Second Number\\n\"))\n",
    "if Calculate =='1':\n",
    "    print(a, \"+\", b,\"=\", addition(a,b))\n",
    "elif Calculate =='2':\n",
    "    print(a, \"-\", b,\"=\", subtraction(a,b))\n",
    "elif Calculate =='3':\n",
    "    print(a, \"*\", b,\"=\", multiply(a,b))\n",
    "elif Calculate =='4':\n",
    "    print(a, \"/\", b,\"=\", divide(a,b))\n",
    "else:\n",
    "    print(\"Sorry we only do basic calculation\")"
   ]
  },
  {
   "cell_type": "code",
   "execution_count": null,
   "metadata": {},
   "outputs": [],
   "source": []
  }
 ],
 "metadata": {
  "kernelspec": {
   "display_name": "Python 3",
   "language": "python",
   "name": "python3"
  },
  "language_info": {
   "codemirror_mode": {
    "name": "ipython",
    "version": 3
   },
   "file_extension": ".py",
   "mimetype": "text/x-python",
   "name": "python",
   "nbconvert_exporter": "python",
   "pygments_lexer": "ipython3",
   "version": "3.8.5"
  }
 },
 "nbformat": 4,
 "nbformat_minor": 4
}
