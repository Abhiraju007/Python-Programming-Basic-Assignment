{
 "cells": [
  {
   "cell_type": "markdown",
   "id": "7d86487a",
   "metadata": {},
   "source": [
    "Ques:-1.\tWrite a Python program to check if the given number is a Disarium Number?"
   ]
  },
  {
   "cell_type": "code",
   "execution_count": 8,
   "id": "c859aa61",
   "metadata": {},
   "outputs": [
    {
     "name": "stdout",
     "output_type": "stream",
     "text": [
      "Enter any number89\n",
      "89  is Disarium Number\n"
     ]
    }
   ],
   "source": [
    "#Ans:-1\n",
    "num = int(input('Enter any number'))\n",
    "sum = 0\n",
    "count = 1\n",
    "x = num\n",
    "while(x!=0):\n",
    "    rem = x%10\n",
    "    sum = sum*10 + rem\n",
    "    x = int(x/10)\n",
    "x = sum\n",
    "sum = 0\n",
    "while(x!=0):\n",
    "    rem = x%10\n",
    "    sum = sum +pow(rem,count)\n",
    "    x = int(x/10)\n",
    "    count = count + 1\n",
    "    \n",
    "if sum == num:\n",
    "    print('{}  is Disarium Number'.format(num))\n",
    "else:\n",
    "    print('{} is not Disarium  Number'.format(num))\n",
    "    \n"
   ]
  },
  {
   "cell_type": "markdown",
   "id": "86585a28",
   "metadata": {},
   "source": [
    "Ques:-2.\tWrite a Python program to print all disarium numbers between 1 to 100?"
   ]
  },
  {
   "cell_type": "code",
   "execution_count": 8,
   "id": "f5cd1ef0",
   "metadata": {},
   "outputs": [
    {
     "name": "stdout",
     "output_type": "stream",
     "text": [
      "Disarium numbers between 1 and 100 are\n",
      "1\n",
      "2\n",
      "3\n",
      "4\n",
      "5\n",
      "6\n",
      "7\n",
      "8\n",
      "9\n",
      "89\n"
     ]
    }
   ],
   "source": [
    "#Ans:-2\n",
    "def Length(n):    \n",
    "    length = 0;    \n",
    "    while(n != 0):    \n",
    "        length = length + 1;    \n",
    "        n = n//10;    \n",
    "    return length;    \n",
    "     \n",
    "   \n",
    "def Digits(num):    \n",
    "    rem = 0\n",
    "    sum = 0\n",
    "    len = calculateLength(num);    \n",
    "        \n",
    "    while(num > 0):    \n",
    "        rem = num%10  \n",
    "        sum = sum + (rem**len);    \n",
    "        num = num//10   \n",
    "        len = len - 1   \n",
    "    return sum;    \n",
    "      \n",
    "result = 0;    \n",
    "     \n",
    "   \n",
    "print(\"Disarium numbers between 1 and 100 are\");    \n",
    "for i in range(1, 101):    \n",
    "    result = Digits(i);    \n",
    "        \n",
    "    if(result == i):    \n",
    "        print(i)  "
   ]
  },
  {
   "cell_type": "markdown",
   "id": "c40e28f4",
   "metadata": {},
   "source": [
    "Ques:-3.\tWrite a Python program to check if the given number is Happy Number?"
   ]
  },
  {
   "cell_type": "code",
   "execution_count": 6,
   "id": "1dc4eff0",
   "metadata": {},
   "outputs": [
    {
     "name": "stdout",
     "output_type": "stream",
     "text": [
      "Enter a number: 70\n",
      "70 is a Happy Number\n"
     ]
    }
   ],
   "source": [
    "#Ans:-3\n",
    "def Happy_Number(n):\n",
    "    rem = 0\n",
    "    sum = 0\n",
    "    while(n>0):\n",
    "        rem = n%10\n",
    "        sum = sum + rem**2\n",
    "        n = n//10\n",
    "    return(sum)\n",
    "\n",
    "n = int(input(\"Enter a number: \"))\n",
    "P = n\n",
    "while(P!=1 and P!=4):\n",
    "    P = Happy_Number(P)\n",
    "if P == 1:\n",
    "    print(\"{} is a Happy Number\".format(n))\n",
    "else:\n",
    "    print(\"{} is not a Happy Number\".format(n))"
   ]
  },
  {
   "cell_type": "markdown",
   "id": "d56b8d89",
   "metadata": {},
   "source": [
    "Ques:-4.\tWrite a Python program to print all happy numbers between 1 and 100?"
   ]
  },
  {
   "cell_type": "code",
   "execution_count": 5,
   "id": "30f02061",
   "metadata": {},
   "outputs": [
    {
     "name": "stdout",
     "output_type": "stream",
     "text": [
      "List of happy numbers between 1 and 100: \n",
      "1\n",
      "7\n",
      "10\n",
      "13\n",
      "19\n",
      "23\n",
      "28\n",
      "31\n",
      "32\n",
      "44\n",
      "49\n",
      "68\n",
      "70\n",
      "79\n",
      "82\n",
      "86\n",
      "91\n",
      "94\n",
      "97\n",
      "100\n"
     ]
    }
   ],
   "source": [
    "#Ans:-4\n",
    "def r_Number(n):\n",
    "    sum = 0\n",
    "    rem = 0\n",
    "    while(n>0):\n",
    "        rem = n%10\n",
    "        sum = sum + rem**2\n",
    "        n = n//10\n",
    "    return(sum)\n",
    "print(\"List of happy numbers between 1 and 100: \")\n",
    "for i in range(1, 101):\n",
    "    A = i\n",
    "    while(A!= 1 and A!= 4):\n",
    "        A = r_Number(A)\n",
    "    if (A == 1):\n",
    "        print(i)\n",
    "            "
   ]
  },
  {
   "cell_type": "code",
   "execution_count": null,
   "id": "1d3c2f23",
   "metadata": {},
   "outputs": [],
   "source": [
    "Ques:-5.\tWrite a Python program to determine whether the given number is a Harshad Number?"
   ]
  },
  {
   "cell_type": "code",
   "execution_count": 2,
   "id": "1c62728b",
   "metadata": {},
   "outputs": [
    {
     "name": "stdout",
     "output_type": "stream",
     "text": [
      "Enter a number43\n",
      "43 is not a Harshad Number\n"
     ]
    }
   ],
   "source": [
    "#Ans:-5\n",
    "sum = 0\n",
    "n = int(input('Enter a number'))\n",
    "b = n\n",
    "while(b>0):\n",
    "    rem = b%10\n",
    "    sum = sum + rem\n",
    "    b = b//10\n",
    "\n",
    "if(n%sum)==0:\n",
    "    print('{} is a Harshad Number'.format(n))\n",
    "else:\n",
    "    print('{} is not a Harshad Number'.format(n))\n",
    "    \n",
    "    \n"
   ]
  },
  {
   "cell_type": "code",
   "execution_count": null,
   "id": "09607e7d",
   "metadata": {},
   "outputs": [],
   "source": [
    "Ques:-6.\tWrite a Python program to print all pronic numbers between 1 and 100?"
   ]
  },
  {
   "cell_type": "code",
   "execution_count": 14,
   "id": "d5dee21a",
   "metadata": {},
   "outputs": [
    {
     "name": "stdout",
     "output_type": "stream",
     "text": [
      "pronic numbers between 1 and 100 are\n",
      "2\n",
      "6\n",
      "12\n",
      "20\n",
      "30\n",
      "42\n",
      "56\n",
      "72\n",
      "90\n"
     ]
    }
   ],
   "source": [
    "#Ans:-6\n",
    "def pronicnum(n):\n",
    "    f = 0\n",
    "    for i in range(1,n+1):\n",
    "        if(i*(i+1)==n):\n",
    "            f =1\n",
    "            break\n",
    "    return f\n",
    "    \n",
    "print('pronic numbers between 1 and 100 are')\n",
    "for j in range(1,101):\n",
    "    if(pronicnum(j)):\n",
    "        print(j)\n",
    "\n",
    "\n"
   ]
  },
  {
   "cell_type": "code",
   "execution_count": null,
   "id": "77baf945",
   "metadata": {},
   "outputs": [],
   "source": []
  },
  {
   "cell_type": "code",
   "execution_count": null,
   "id": "cecfeb55",
   "metadata": {},
   "outputs": [],
   "source": []
  },
  {
   "cell_type": "code",
   "execution_count": null,
   "id": "cb441b10",
   "metadata": {},
   "outputs": [],
   "source": []
  },
  {
   "cell_type": "code",
   "execution_count": null,
   "id": "270873be",
   "metadata": {},
   "outputs": [],
   "source": []
  },
  {
   "cell_type": "code",
   "execution_count": null,
   "id": "4e65a481",
   "metadata": {},
   "outputs": [],
   "source": []
  },
  {
   "cell_type": "code",
   "execution_count": null,
   "id": "2294e770",
   "metadata": {},
   "outputs": [],
   "source": []
  },
  {
   "cell_type": "code",
   "execution_count": null,
   "id": "b9cffb21",
   "metadata": {},
   "outputs": [],
   "source": []
  },
  {
   "cell_type": "code",
   "execution_count": null,
   "id": "f87dab0a",
   "metadata": {},
   "outputs": [],
   "source": []
  },
  {
   "cell_type": "code",
   "execution_count": null,
   "id": "ce493054",
   "metadata": {},
   "outputs": [],
   "source": []
  },
  {
   "cell_type": "code",
   "execution_count": null,
   "id": "ba5b924c",
   "metadata": {},
   "outputs": [],
   "source": []
  },
  {
   "cell_type": "code",
   "execution_count": null,
   "id": "833c37c2",
   "metadata": {},
   "outputs": [],
   "source": []
  },
  {
   "cell_type": "code",
   "execution_count": null,
   "id": "fcfe5dc5",
   "metadata": {},
   "outputs": [],
   "source": []
  },
  {
   "cell_type": "code",
   "execution_count": null,
   "id": "d7e66297",
   "metadata": {},
   "outputs": [],
   "source": []
  },
  {
   "cell_type": "code",
   "execution_count": null,
   "id": "9b8f7907",
   "metadata": {},
   "outputs": [],
   "source": []
  },
  {
   "cell_type": "code",
   "execution_count": null,
   "id": "8d5a089f",
   "metadata": {},
   "outputs": [],
   "source": []
  },
  {
   "cell_type": "code",
   "execution_count": null,
   "id": "8ce5d532",
   "metadata": {},
   "outputs": [],
   "source": []
  }
 ],
 "metadata": {
  "kernelspec": {
   "display_name": "Python 3",
   "language": "python",
   "name": "python3"
  },
  "language_info": {
   "codemirror_mode": {
    "name": "ipython",
    "version": 3
   },
   "file_extension": ".py",
   "mimetype": "text/x-python",
   "name": "python",
   "nbconvert_exporter": "python",
   "pygments_lexer": "ipython3",
   "version": "3.8.5"
  }
 },
 "nbformat": 4,
 "nbformat_minor": 5
}
