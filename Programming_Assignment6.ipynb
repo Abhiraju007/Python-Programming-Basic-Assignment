{
 "cells": [
  {
   "cell_type": "markdown",
   "id": "74f83e7a",
   "metadata": {},
   "source": [
    "Ques:-1.Write a Python Program to Display Fibonacci Sequence Using Recursion?"
   ]
  },
  {
   "cell_type": "code",
   "execution_count": 7,
   "id": "f00bc981",
   "metadata": {},
   "outputs": [
    {
     "name": "stdout",
     "output_type": "stream",
     "text": [
      "Enter a Number14\n",
      "377\n"
     ]
    }
   ],
   "source": [
    "#Ans:-1\n",
    "n = int(input(\"Enter a Number\"))\n",
    "def Fibonacci(n):\n",
    "    \n",
    "    if n < 0:\n",
    "        print(\"Incorrect Input, Please give positive Integer\")\n",
    "    if  n == 0:\n",
    "        return 0\n",
    "    if n == 1:\n",
    "        return 1\n",
    "    else:\n",
    "        return(Fibonacci(n-1) + Fibonacci(n-2))\n",
    "\n",
    "print(Fibonacci(n))\n",
    "\n"
   ]
  },
  {
   "cell_type": "markdown",
   "id": "f2b7f545",
   "metadata": {},
   "source": [
    "Ques:- 2.\tWrite a Python Program to Find Factorial of Number Using Recursion?"
   ]
  },
  {
   "cell_type": "code",
   "execution_count": 19,
   "id": "4396d29f",
   "metadata": {},
   "outputs": [
    {
     "name": "stdout",
     "output_type": "stream",
     "text": [
      "Enter a Number 3\n",
      "6\n"
     ]
    }
   ],
   "source": [
    "#Ans:-2\n",
    "x = int(input(\"Enter a Number \"))\n",
    "def rec_Fibonacci(x):\n",
    "    if x < 0:\n",
    "        print(\"Sorry Does not Exist for Negative Number\")\n",
    "    elif x ==0:\n",
    "        print(\"Factorial for 0 is 1\")\n",
    "    elif x ==1:\n",
    "        return x\n",
    "    else:\n",
    "        return x*rec_Fibonacci(x-1)\n",
    "    \n",
    "print(rec_Fibonacci(x))"
   ]
  },
  {
   "cell_type": "markdown",
   "id": "8521ede4",
   "metadata": {},
   "source": [
    "Ques:-3.\tWrite a Python Program to calculate your Body Mass Index?"
   ]
  },
  {
   "cell_type": "code",
   "execution_count": 1,
   "id": "34869fde",
   "metadata": {},
   "outputs": [
    {
     "name": "stdout",
     "output_type": "stream",
     "text": [
      "Enter your height in cm: 173.56\n",
      "Enter your Weight in Kg: 68\n",
      "Body Mass Index of Your Body is 22.574057648619227\n"
     ]
    }
   ],
   "source": [
    "#Ans:-3\n",
    "Height = float(input(\"Enter your height in cm: \"))\n",
    "Weight = float(input(\"Enter your Weight in Kg: \"))\n",
    "BMI = Weight/(Height/100)**2\n",
    "print('Body Mass Index of Your Body is {}'.format(BMI))"
   ]
  },
  {
   "cell_type": "markdown",
   "id": "cc6e0f20",
   "metadata": {},
   "source": [
    "Ques:-4.\tWrite a Python Program to calculate the natural logarithm of any number?"
   ]
  },
  {
   "cell_type": "code",
   "execution_count": 3,
   "id": "81dec30f",
   "metadata": {},
   "outputs": [
    {
     "name": "stdout",
     "output_type": "stream",
     "text": [
      "Enter a Number:50\n",
      "natural logarithm of 50.0 is 3.912023005428146\n"
     ]
    }
   ],
   "source": [
    "#Ans:-4\n",
    "import math\n",
    "y = float(input(\"Enter a Number:\"))\n",
    "natural_log = math.log(y)\n",
    "print('natural logarithm of {} is {}'.format(y,natural_log))"
   ]
  },
  {
   "cell_type": "markdown",
   "id": "cca631e5",
   "metadata": {},
   "source": [
    "Ques:-5.\tWrite a Python Program for cube sum of first n natural numbers?"
   ]
  },
  {
   "cell_type": "code",
   "execution_count": null,
   "id": "d4bc3584",
   "metadata": {},
   "outputs": [],
   "source": [
    "#Ans:-5\n",
    "x = int(input(\"Enter a Cube Number:\"))\n",
    "y = x**3\n",
    "print('Cube of {} is {}'.format(x,y))"
   ]
  },
  {
   "cell_type": "code",
   "execution_count": null,
   "id": "e79f3318",
   "metadata": {},
   "outputs": [],
   "source": []
  },
  {
   "cell_type": "code",
   "execution_count": null,
   "id": "6da90655",
   "metadata": {},
   "outputs": [],
   "source": []
  },
  {
   "cell_type": "code",
   "execution_count": null,
   "id": "c604cada",
   "metadata": {},
   "outputs": [],
   "source": []
  },
  {
   "cell_type": "code",
   "execution_count": null,
   "id": "6605f779",
   "metadata": {},
   "outputs": [],
   "source": []
  },
  {
   "cell_type": "code",
   "execution_count": null,
   "id": "4fc58a61",
   "metadata": {},
   "outputs": [],
   "source": []
  },
  {
   "cell_type": "code",
   "execution_count": null,
   "id": "8cd4ccdf",
   "metadata": {},
   "outputs": [],
   "source": []
  },
  {
   "cell_type": "code",
   "execution_count": null,
   "id": "1bf29aa0",
   "metadata": {},
   "outputs": [],
   "source": []
  },
  {
   "cell_type": "code",
   "execution_count": null,
   "id": "5c264442",
   "metadata": {},
   "outputs": [],
   "source": []
  },
  {
   "cell_type": "code",
   "execution_count": null,
   "id": "8ea718d1",
   "metadata": {},
   "outputs": [],
   "source": []
  },
  {
   "cell_type": "code",
   "execution_count": null,
   "id": "cee8151f",
   "metadata": {},
   "outputs": [],
   "source": []
  }
 ],
 "metadata": {
  "kernelspec": {
   "display_name": "Python 3",
   "language": "python",
   "name": "python3"
  },
  "language_info": {
   "codemirror_mode": {
    "name": "ipython",
    "version": 3
   },
   "file_extension": ".py",
   "mimetype": "text/x-python",
   "name": "python",
   "nbconvert_exporter": "python",
   "pygments_lexer": "ipython3",
   "version": "3.8.5"
  }
 },
 "nbformat": 4,
 "nbformat_minor": 5
}
