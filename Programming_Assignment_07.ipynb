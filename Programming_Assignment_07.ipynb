{
 "cells": [
  {
   "cell_type": "markdown",
   "id": "328fb241",
   "metadata": {},
   "source": [
    "Ques:-1.\tWrite a Python Program to find sum of array?"
   ]
  },
  {
   "cell_type": "code",
   "execution_count": 2,
   "id": "310f5133",
   "metadata": {},
   "outputs": [
    {
     "name": "stdout",
     "output_type": "stream",
     "text": [
      "Sum of array is 21\n"
     ]
    }
   ],
   "source": [
    "#Ans:-1\n",
    "arr = [1,2,3,4,5,6]\n",
    "x = sum(arr)\n",
    "print('Sum of array is {}'.format(x))"
   ]
  },
  {
   "cell_type": "markdown",
   "id": "b497380a",
   "metadata": {},
   "source": [
    "Ques2.\tWrite a Python Program to find largest element in an array?"
   ]
  },
  {
   "cell_type": "code",
   "execution_count": 1,
   "id": "b6dabef1",
   "metadata": {},
   "outputs": [
    {
     "name": "stdout",
     "output_type": "stream",
     "text": [
      "Largest Element in an array is 100\n"
     ]
    }
   ],
   "source": [
    "#Ans:-2\n",
    "arr = [10,1,50,3,6,10,7,100,4,5]\n",
    "y = max(arr)\n",
    "print('Largest Element in an array is {}'.format(y))"
   ]
  },
  {
   "cell_type": "markdown",
   "id": "8a1c230a",
   "metadata": {},
   "source": [
    "Ques3.\tWrite a Python Program for array rotation?"
   ]
  },
  {
   "cell_type": "code",
   "execution_count": 17,
   "id": "39824774",
   "metadata": {},
   "outputs": [
    {
     "name": "stdout",
     "output_type": "stream",
     "text": [
      "How many left rotation you want to perform in Array1\n",
      "[2, 3, 4, 5, 1]\n"
     ]
    }
   ],
   "source": [
    "#Ans:-3\n",
    "#Left Array Rotation\n",
    "array = [1,2,3,4,5]\n",
    "l = int(input(\"How many left rotation you want to perform in Array\"))\n",
    "x= []\n",
    "x.extend(array[0:l])\n",
    "del array[0:l]\n",
    "array.extend(x)\n",
    "print(array)\n"
   ]
  },
  {
   "cell_type": "code",
   "execution_count": 46,
   "id": "1c50a4fb",
   "metadata": {},
   "outputs": [
    {
     "name": "stdout",
     "output_type": "stream",
     "text": [
      "How many right rotation you want to perform in Array2\n",
      "[52, 36, 12, 10, 5, 6]\n"
     ]
    }
   ],
   "source": [
    "#Right Array Rotation\n",
    "array = [12, 10, 5, 6, 52, 36]\n",
    "l = int(input(\"How many right rotation you want to perform in Array\"))\n",
    "Y = (array[-l:] + array[:-l])\n",
    "print(Y)"
   ]
  },
  {
   "cell_type": "markdown",
   "id": "3c74d10d",
   "metadata": {},
   "source": [
    "Ques:-4 Write a Python Program to Split the array and add the first part to the end?"
   ]
  },
  {
   "cell_type": "code",
   "execution_count": 95,
   "id": "b53c0d5c",
   "metadata": {},
   "outputs": [
    {
     "name": "stdout",
     "output_type": "stream",
     "text": [
      "Enter a Digit you want to split and add the first part to the end4\n",
      "[33, 24, 4, 3, 7, 8, 100, 2, 44, 55]\n"
     ]
    }
   ],
   "source": [
    "def splitArray(arr,n,p):\n",
    "    array=[100,2,44,55,33,24,4,3,7,8]\n",
    "    n = len(arr)\n",
    "    p = int(input(\"Enter a Digit you want to split and add the first part to the end\"))\n",
    "    b = arr[:p]\n",
    "    return(arr[p:: ] + b[::])\n",
    "print(splitArray([100,2,44,55,33,24,4,3,7,8],n,2))"
   ]
  },
  {
   "cell_type": "markdown",
   "id": "a0a5ed0d",
   "metadata": {},
   "source": [
    "Ques:-5 \tWrite a Python Program to check if given array is Monotonic?"
   ]
  },
  {
   "cell_type": "code",
   "execution_count": 41,
   "id": "0e0ab95b",
   "metadata": {},
   "outputs": [
    {
     "name": "stdout",
     "output_type": "stream",
     "text": [
      "False\n",
      "True\n"
     ]
    }
   ],
   "source": [
    "#Ans:-5\n",
    "def Monotonic (array):\n",
    "    \n",
    "    if(array[0]>array[1]):\n",
    "        decreasing = True\n",
    "    else:\n",
    "         decreasing = False\n",
    "    for i in range(len(array) - 1):\n",
    "        if(array[i] < array[i+1] and decreasing or array[i] > array[i+1] and not decreasing):\n",
    "            return False\n",
    "    else:\n",
    "        return True\n",
    "print(Monotonic ([8,2,5,1,4,6]))\n",
    "print(Monotonic ([1,2,3,4,5]))\n",
    "        \n",
    "    "
   ]
  },
  {
   "cell_type": "code",
   "execution_count": 58,
   "id": "9e4a8fda",
   "metadata": {},
   "outputs": [],
   "source": []
  },
  {
   "cell_type": "code",
   "execution_count": null,
   "id": "eb935ff3",
   "metadata": {},
   "outputs": [],
   "source": []
  },
  {
   "cell_type": "code",
   "execution_count": null,
   "id": "51a66f22",
   "metadata": {},
   "outputs": [],
   "source": []
  },
  {
   "cell_type": "code",
   "execution_count": null,
   "id": "093e3159",
   "metadata": {},
   "outputs": [],
   "source": []
  }
 ],
 "metadata": {
  "kernelspec": {
   "display_name": "Python 3",
   "language": "python",
   "name": "python3"
  },
  "language_info": {
   "codemirror_mode": {
    "name": "ipython",
    "version": 3
   },
   "file_extension": ".py",
   "mimetype": "text/x-python",
   "name": "python",
   "nbconvert_exporter": "python",
   "pygments_lexer": "ipython3",
   "version": "3.8.5"
  }
 },
 "nbformat": 4,
 "nbformat_minor": 5
}
