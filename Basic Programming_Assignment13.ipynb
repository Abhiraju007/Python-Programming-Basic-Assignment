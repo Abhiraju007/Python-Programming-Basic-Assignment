{
 "cells": [
  {
   "cell_type": "markdown",
   "id": "064ade6d",
   "metadata": {},
   "source": [
    "Question 1:\n",
    "\n",
    "Write a program that calculates and prints the value according to the given formula:\n",
    "\n",
    "Q = Square root of [(2 * C * D)/H]\n",
    "\n",
    "Following are the fixed values of C and H:\n",
    "\n",
    "C is 50. H is 30.\n",
    "\n",
    "D is the variable whose values should be input to your program in a comma-separated sequence.\n"
   ]
  },
  {
   "cell_type": "code",
   "execution_count": 8,
   "id": "15f5947a",
   "metadata": {},
   "outputs": [
    {
     "name": "stdout",
     "output_type": "stream",
     "text": [
      "Write the value of D with comma separated: 100,150,180\n",
      "[18, 22, 24]\n"
     ]
    }
   ],
   "source": [
    "#Ans:1\n",
    "import math\n",
    "\n",
    "n = input('Write the value of D with comma separated: ')\n",
    "n = n.split(',')\n",
    "res = []\n",
    "for D in n:\n",
    "    Q = round(math.sqrt(2*50*int(D)/30))\n",
    "    res.append(Q)\n",
    "print(res)"
   ]
  },
  {
   "cell_type": "markdown",
   "id": "8695ae7c",
   "metadata": {},
   "source": [
    "Ques:2\n",
    "    Write a program which takes 2 digits, X,Y as input and generates a 2-dimensional array. The element value in the i-th row and j-th column of the array should be i*j.\n",
    "\n",
    "Note: i=0,1.., X-1; j=0,1,¡¬Y-1.\n"
   ]
  },
  {
   "cell_type": "code",
   "execution_count": 15,
   "id": "61d340d4",
   "metadata": {},
   "outputs": [
    {
     "name": "stdout",
     "output_type": "stream",
     "text": [
      "Input number of rows: 3\n",
      "Input number of columns: 5\n",
      "[[0, 0, 0, 0, 0], [0, 1, 2, 3, 4], [0, 2, 4, 6, 8]]\n"
     ]
    }
   ],
   "source": [
    "#Ans:2\n",
    "row = int(input(\"Input number of rows: \"))\n",
    "col = int(input(\"Input number of columns: \"))\n",
    "res = [[0 for c in range(col)] for r in range(row)]\n",
    "\n",
    "for r in range(row):\n",
    "    for c in range(col):\n",
    "        res[r][c]= r*c\n",
    "\n",
    "print(res)\n",
    "\n"
   ]
  },
  {
   "cell_type": "markdown",
   "id": "2481c894",
   "metadata": {},
   "source": [
    "Question 3:\n",
    "Write a program that accepts a comma separated sequence of words as input and prints the words in a comma-separated sequence after sorting them alphabetically.\n",
    "\n",
    "Suppose the following input is supplied to the program:\n",
    "\n",
    "without,hello,bag,world\n",
    "\n",
    "Then, the output should be:\n",
    "\n",
    "bag,hello,without,world\n"
   ]
  },
  {
   "cell_type": "code",
   "execution_count": 24,
   "id": "9c49e93d",
   "metadata": {},
   "outputs": [
    {
     "name": "stdout",
     "output_type": "stream",
     "text": [
      "Enter the comma-separated input words: without,hello,bag,world\n",
      "Output word after sorting them alphabetically : bag,hello,without,world\n"
     ]
    }
   ],
   "source": [
    "#Ans:3\n",
    "def commseq():\n",
    "    X = input('Enter the comma-separated input words: ')\n",
    "    Y = ','.join(sorted(X.split(',')))\n",
    "    print(f'Output word after sorting them alphabetically : {Y}')\n",
    "    \n",
    "commseq()  "
   ]
  },
  {
   "cell_type": "markdown",
   "id": "c6e96563",
   "metadata": {},
   "source": [
    "Question 4:\n",
    "Write a program that accepts a sequence of whitespace separated words as input and prints the words after removing all duplicate words and sorting them alphanumerically.\n",
    "\n",
    "Suppose the following input is supplied to the program:\n",
    "\n",
    "hello world and practice makes perfect and hello world again\n",
    "\n",
    "Then, the output should be:\n",
    "\n",
    "again and hello makes perfect practice world\n"
   ]
  },
  {
   "cell_type": "code",
   "execution_count": 28,
   "id": "b5b5af26",
   "metadata": {},
   "outputs": [
    {
     "name": "stdout",
     "output_type": "stream",
     "text": [
      "Enter the word: hello world and practice makes perfect and hello world again\n",
      "words after removing all duplicate words and sorting them alphanumerically: again and hello makes perfect practice world\n"
     ]
    }
   ],
   "source": [
    "#Ans:4\n",
    "def sortalpha():\n",
    "    X = input(\"Enter the word: \")\n",
    "    Y = ' '.join(sorted(list(set(X.split(\" \")))))\n",
    "    print(f'words after removing all duplicate words and sorting them alphanumerically: {Y}')\n",
    "    \n",
    "sortalpha()          "
   ]
  },
  {
   "cell_type": "markdown",
   "id": "cdd7cf16",
   "metadata": {},
   "source": [
    "Question 5:\n",
    "Write a program that accepts a sentence and calculate the number of letters and digits.\n",
    "\n",
    "Suppose the following input is supplied to the program:\n",
    "\n",
    "hello world! 123\n",
    "\n",
    "Then, the output should be:\n",
    "\n",
    "LETTERS 10\n",
    "\n",
    "DIGITS 3\n",
    "\n"
   ]
  },
  {
   "cell_type": "code",
   "execution_count": 31,
   "id": "f559d014",
   "metadata": {},
   "outputs": [
    {
     "name": "stdout",
     "output_type": "stream",
     "text": [
      "Enter a word: hello world! 123\n",
      "LETTERS 10\n",
      "DIGITS 3\n"
     ]
    }
   ],
   "source": [
    "#Ans:-5\n",
    "word = input('Enter a word: ')\n",
    "letters = digits = 0\n",
    "for i in word:\n",
    "    if i.isdigit():\n",
    "        digits +=1\n",
    "    elif i.isalpha():\n",
    "        letters +=1\n",
    "    else:\n",
    "        pass\n",
    "    \n",
    "print(\"LETTERS\", letters)    \n",
    "print(\"DIGITS\", digits)  \n",
    "    "
   ]
  },
  {
   "cell_type": "markdown",
   "id": "a9486e1c",
   "metadata": {},
   "source": [
    "A website requires the users to input username and password to register. Write a program to check the validity of password input by users.\n",
    "\n",
    "Following are the criteria for checking the password:\n",
    "\n",
    "1. At least 1 letter between [a-z]\n",
    "\n",
    "2. At least 1 number between [0-9]\n",
    "\n",
    "1. At least 1 letter between [A-Z]\n",
    "\n",
    "3. At least 1 character from [$#@]\n",
    "\n",
    "4. Minimum length of transaction password: 6\n",
    "\n",
    "5. Maximum length of transaction password: 12\n",
    "\n",
    "Your program should accept a sequence of comma separated passwords and will check them according to the above criteria. Passwords that match the criteria are to be printed, each separated by a comma.\n",
    "\n",
    "Example\n",
    "\n",
    "If the following passwords are given as input to the program:\n",
    "\n",
    "ABd1234@1,a F1#,2w3E*,2We3345\n",
    "\n",
    "Then, the output of the program should be:\n",
    "\n",
    "ABd1234@1\n",
    "\n"
   ]
  },
  {
   "cell_type": "code",
   "execution_count": 14,
   "id": "944d769c",
   "metadata": {},
   "outputs": [
    {
     "name": "stdout",
     "output_type": "stream",
     "text": [
      "Enter a password: ABd1234@1,a F1#,2w3E*,2We3345\n",
      "ABd1234@1\n"
     ]
    }
   ],
   "source": [
    "#Ans:6\n",
    "\n",
    "def password():\n",
    "    \n",
    "    pas = input(\"Enter a password: \")\n",
    "    smallletter = \"abcdefghijklmnopqrstuvwxyz\"\n",
    "    capletter = \"ABCDEFGHIJKLMNOPQRSTUVWXYZ\"\n",
    "    number = \"0123456789\"\n",
    "    special = \"$#@\"\n",
    "    for x in pas.split(\",\"):\n",
    "        if len(x)>=6 and len(x)<=12:\n",
    "            if any(i.islower() for i in x):\n",
    "                if any(i.isupper() for i in x):\n",
    "                    if any(i for i in x if i in special):\n",
    "                        print(x)\n",
    "\n",
    "password()        \n",
    "        "
   ]
  },
  {
   "cell_type": "code",
   "execution_count": null,
   "id": "e362477f",
   "metadata": {},
   "outputs": [],
   "source": [
    "\n",
    "    "
   ]
  }
 ],
 "metadata": {
  "kernelspec": {
   "display_name": "Python 3 (ipykernel)",
   "language": "python",
   "name": "python3"
  },
  "language_info": {
   "codemirror_mode": {
    "name": "ipython",
    "version": 3
   },
   "file_extension": ".py",
   "mimetype": "text/x-python",
   "name": "python",
   "nbconvert_exporter": "python",
   "pygments_lexer": "ipython3",
   "version": "3.9.7"
  }
 },
 "nbformat": 4,
 "nbformat_minor": 5
}
