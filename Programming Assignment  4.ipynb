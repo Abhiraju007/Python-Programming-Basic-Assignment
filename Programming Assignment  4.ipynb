{
 "cells": [
  {
   "cell_type": "markdown",
   "metadata": {},
   "source": [
    "Ques:-1.\tWrite a Python Program to Find the Factorial of a Number?"
   ]
  },
  {
   "cell_type": "code",
   "execution_count": 2,
   "metadata": {},
   "outputs": [
    {
     "name": "stdout",
     "output_type": "stream",
     "text": [
      "Enter a factorial Number: 11\n",
      "Factorial of 11 is 39916800\n"
     ]
    }
   ],
   "source": [
    "# Ans:-1\n",
    "n = int(input(\"Enter a factorial Number: \"))\n",
    "fac = 1\n",
    "if n > 0:\n",
    "    for i in range(1,n+1):\n",
    "        fac = fac*i\n",
    "    print(\"Factorial of {} is {}\".format(n,fac))\n",
    "    \n",
    "elif n < 0:\n",
    "    print(\"sorry factorial of {} does not exist\".format(n))\n",
    "else:\n",
    "    n == 0\n",
    "    print(\"The Factorial of 0 is 1\")\n",
    "\n",
    "\n",
    "        "
   ]
  },
  {
   "cell_type": "markdown",
   "metadata": {},
   "source": [
    "Ques:-2.\tWrite a Python Program to Display the multiplication Table?"
   ]
  },
  {
   "cell_type": "code",
   "execution_count": 1,
   "metadata": {},
   "outputs": [
    {
     "name": "stdout",
     "output_type": "stream",
     "text": [
      "Enter a Table Number: 7\n",
      "7 * 1 is 7\n",
      "7 * 2 is 14\n",
      "7 * 3 is 21\n",
      "7 * 4 is 28\n",
      "7 * 5 is 35\n",
      "7 * 6 is 42\n",
      "7 * 7 is 49\n",
      "7 * 8 is 56\n",
      "7 * 9 is 63\n",
      "7 * 10 is 70\n"
     ]
    }
   ],
   "source": [
    "# Ans:-2\n",
    "x = int(input(\"Enter a Table Number: \"))\n",
    "for i in range(1,11):\n",
    "        print(\"{} * {} is {}\".format(x,i,x*i))\n"
   ]
  },
  {
   "cell_type": "markdown",
   "metadata": {},
   "source": [
    "Ques:-3.\tWrite a Python Program to Print the Fibonacci sequence?"
   ]
  },
  {
   "cell_type": "code",
   "execution_count": 14,
   "metadata": {},
   "outputs": [
    {
     "name": "stdout",
     "output_type": "stream",
     "text": [
      "Enter the Number:7\n",
      "0 1 12358"
     ]
    }
   ],
   "source": [
    "#Ans:-3\n",
    "y = int(input(\"Enter the Number:\"))\n",
    "a,b = 0,1\n",
    "\n",
    "if y <= 0:\n",
    "    print(\"Enter a positive Number\")\n",
    "else:\n",
    "    print(a,b, end = \" \")\n",
    "    for i in range(2,y):\n",
    "        c = a + b\n",
    "        a = b\n",
    "        b = c\n",
    "        print(c, end = \"\")\n",
    "\n",
    "\n"
   ]
  },
  {
   "cell_type": "markdown",
   "metadata": {},
   "source": [
    "Ques:-4.\tWrite a Python Program to Check Armstrong Number?"
   ]
  },
  {
   "cell_type": "code",
   "execution_count": 13,
   "metadata": {},
   "outputs": [
    {
     "name": "stdout",
     "output_type": "stream",
     "text": [
      "Enter the Number: 153\n",
      "This is 153 ArmStrong Number\n"
     ]
    }
   ],
   "source": [
    "# Ans:-4\n",
    "n = int(input(\"Enter the Number: \"))\n",
    "z = n\n",
    "b = 0\n",
    "while(n>0):\n",
    "    a = n%10\n",
    "    b = b + a**3\n",
    "    n = n//10\n",
    "if(z == b):\n",
    "    print(\"This is {} ArmStrong Number\".format(b))\n",
    "else:\n",
    "    print(\"This is not {} ArmStrong Number\".format(b))\n",
    "    \n",
    "    "
   ]
  },
  {
   "cell_type": "markdown",
   "metadata": {},
   "source": [
    "\n",
    "Ques:-5 Write a Python Program to Find Armstrong Number in an Interval?\n"
   ]
  },
  {
   "cell_type": "code",
   "execution_count": 6,
   "metadata": {},
   "outputs": [
    {
     "name": "stdout",
     "output_type": "stream",
     "text": [
      "Enter the starting range: 100\n",
      "Enter the last Range: 800\n",
      "153\n",
      "370\n",
      "371\n",
      "407\n"
     ]
    }
   ],
   "source": [
    "#Ans:-5\n",
    "start = int(input(\"Enter the starting range: \"))\n",
    "end   = int(input(\"Enter the last Range: \"))\n",
    "for i in range(start,end+1):\n",
    "    Thor = i\n",
    "    b = 0\n",
    "    while(Thor>0):\n",
    "        a = Thor%10\n",
    "        b = b + a**3\n",
    "        Thor = Thor//10\n",
    "    if (i == b):  \n",
    "        print(b)\n",
    "    else:\n",
    "        continue\n",
    "\n"
   ]
  },
  {
   "cell_type": "markdown",
   "metadata": {},
   "source": [
    "Ques:-6.\tWrite a Python Program to Find the Sum of Natural Numbers?"
   ]
  },
  {
   "cell_type": "code",
   "execution_count": 19,
   "metadata": {},
   "outputs": [
    {
     "name": "stdout",
     "output_type": "stream",
     "text": [
      "Enter a Natural Number: 7\n",
      "Sum of natural number 7 is 28\n"
     ]
    }
   ],
   "source": [
    "# Ans:-6\n",
    "Nat = int(input(\"Enter a Natural Number: \"))\n",
    "b = 0\n",
    "a = Nat\n",
    "while (a>0):\n",
    "    b = b + a\n",
    "    a = a - 1\n",
    "print(\"Sum of natural number {} is {}\".format(Nat,b))\n"
   ]
  },
  {
   "cell_type": "code",
   "execution_count": null,
   "metadata": {},
   "outputs": [],
   "source": []
  },
  {
   "cell_type": "code",
   "execution_count": null,
   "metadata": {},
   "outputs": [],
   "source": []
  },
  {
   "cell_type": "code",
   "execution_count": null,
   "metadata": {},
   "outputs": [],
   "source": []
  },
  {
   "cell_type": "code",
   "execution_count": null,
   "metadata": {},
   "outputs": [],
   "source": []
  }
 ],
 "metadata": {
  "kernelspec": {
   "display_name": "Python 3",
   "language": "python",
   "name": "python3"
  },
  "language_info": {
   "codemirror_mode": {
    "name": "ipython",
    "version": 3
   },
   "file_extension": ".py",
   "mimetype": "text/x-python",
   "name": "python",
   "nbconvert_exporter": "python",
   "pygments_lexer": "ipython3",
   "version": "3.8.5"
  }
 },
 "nbformat": 4,
 "nbformat_minor": 4
}
