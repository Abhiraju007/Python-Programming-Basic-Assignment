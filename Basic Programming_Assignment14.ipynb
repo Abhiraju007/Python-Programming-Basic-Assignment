{
 "cells": [
  {
   "cell_type": "markdown",
   "id": "b0b8d616",
   "metadata": {},
   "source": [
    "Question 1:\n",
    "\n",
    "Define a class with a generator which can iterate the numbers, which are divisible by 7, between a given range 0 and n.\n"
   ]
  },
  {
   "cell_type": "code",
   "execution_count": 1,
   "id": "632bb938",
   "metadata": {},
   "outputs": [
    {
     "name": "stdout",
     "output_type": "stream",
     "text": [
      "Enter a number n: 83\n",
      "0\n",
      "7\n",
      "14\n",
      "21\n",
      "28\n",
      "35\n",
      "42\n",
      "49\n",
      "56\n",
      "63\n",
      "70\n",
      "77\n"
     ]
    }
   ],
   "source": [
    "#Ans1:-\n",
    "\n",
    "def Number(n):\n",
    "    i = 0\n",
    "    while i < n:\n",
    "        j = i\n",
    "        i += 1\n",
    "        if j%7 == 0:\n",
    "            yield j\n",
    "n = int(input('Enter a number n: '))\n",
    "for i in Number(n):\n",
    "    print(i)"
   ]
  },
  {
   "cell_type": "markdown",
   "id": "8f8090f4",
   "metadata": {},
   "source": [
    "Question 2:\n",
    "Write a program to compute the frequency of the words from the input. The output should output after sorting the key alphanumerically. \n",
    "\n",
    "Suppose the following input is supplied to the program:\n",
    "\n",
    "New to Python or choosing between Python 2 and Python 3? Read Python 2 or Python 3.\n",
    "\n",
    "Then, the output should be:\n",
    "\n",
    "2:2\n",
    "\n",
    "3.:1\n",
    "\n",
    "3?:1\n",
    "\n",
    "New:1\n",
    "\n",
    "Python:5\n",
    "\n",
    "Read:1\n",
    "\n",
    "and:1\n",
    "\n",
    "between:1\n",
    "\n",
    "choosing:1\n",
    "\n",
    "or:2\n",
    "\n",
    "to:1\n"
   ]
  },
  {
   "cell_type": "code",
   "execution_count": 7,
   "id": "6f1f4297",
   "metadata": {},
   "outputs": [
    {
     "name": "stdout",
     "output_type": "stream",
     "text": [
      "Enter the word: New to Python or choosing between Python 2 and Python 3? Read Python 2 or Python 3\n",
      "2:2\n",
      "3:1\n",
      "3?:1\n",
      "New:1\n",
      "Python:5\n",
      "Read:1\n",
      "and:1\n",
      "between:1\n",
      "choosing:1\n",
      "or:2\n",
      "to:1\n"
     ]
    }
   ],
   "source": [
    "#Ans2:-\n",
    "\n",
    "alphanumerical = input('Enter the word: ').split()\n",
    "word = sorted(set(alphanumerical))\n",
    "\n",
    "for i in word:\n",
    "    print(\"{0}:{1}\".format(i,alphanumerical.count(i)))\n"
   ]
  },
  {
   "cell_type": "markdown",
   "id": "fbefc058",
   "metadata": {},
   "source": [
    "Question 3:\n",
    "\n",
    "Define a class Person and its two child classes: Male and Female. All classes have a method \"getGender\" which can print \"Male\" for Male class and \"Female\" for Female class.\n"
   ]
  },
  {
   "cell_type": "code",
   "execution_count": 14,
   "id": "5d769f20",
   "metadata": {},
   "outputs": [
    {
     "name": "stdout",
     "output_type": "stream",
     "text": [
      "Male\n",
      "Female\n"
     ]
    }
   ],
   "source": [
    "#Ans:3\n",
    "\n",
    "class Person():\n",
    "    def getGender():\n",
    "        pass\n",
    "\n",
    "class Male(Person):\n",
    "    def getGender():\n",
    "        print(\"Male\")\n",
    "        \n",
    "class Female(Person):\n",
    "    def getGender():\n",
    "        print(\"Female\")\n",
    "        \n",
    "Male.getGender()\n",
    "Female.getGender()"
   ]
  },
  {
   "cell_type": "markdown",
   "id": "e8ef75d6",
   "metadata": {},
   "source": [
    "Question 4:\n",
    "Please write a program to generate all sentences where subject is in [\"I\", \"You\"] and verb is in [\"Play\", \"Love\"] and the object is in [\"Hockey\",\"Football\"].\n"
   ]
  },
  {
   "cell_type": "code",
   "execution_count": 16,
   "id": "62619bae",
   "metadata": {},
   "outputs": [
    {
     "name": "stdout",
     "output_type": "stream",
     "text": [
      "I Play Hockey\n",
      "I Play Football\n",
      "I Love Hockey\n",
      "I Love Football\n",
      "You Play Hockey\n",
      "You Play Football\n",
      "You Love Hockey\n",
      "You Love Football\n"
     ]
    }
   ],
   "source": [
    "#Ans:4\n",
    "\n",
    "def Gensub():\n",
    "    sub =  [\"I\", \"You\"]\n",
    "    verb = [\"Play\", \"Love\"]\n",
    "    ob   = [\"Hockey\",\"Football\"]\n",
    "    for s in sub:\n",
    "        for v in verb:\n",
    "            for o in ob:\n",
    "                print(f'{s} {v} {o}')\n",
    "                \n",
    "            \n",
    "Gensub()"
   ]
  },
  {
   "cell_type": "markdown",
   "id": "8c1ad8c5",
   "metadata": {},
   "source": [
    "Question 5:\n",
    "Please write a program to compress and decompress the string \"hello world!hello world!hello world!hello world!\".\n"
   ]
  },
  {
   "cell_type": "code",
   "execution_count": 21,
   "id": "efff32c0",
   "metadata": {},
   "outputs": [
    {
     "name": "stdout",
     "output_type": "stream",
     "text": [
      "\n",
      "Compress String\n",
      "b'x\\x9c\\xcbH\\xcd\\xc9\\xc9W(\\xcf/\\xcaIQ\\xcc \\x82\\r\\x00\\xbd[\\x11\\xf5'\n",
      "\n",
      "decompress String\n",
      "b'hello world!hello world!hello world!hello world!'\n"
     ]
    }
   ],
   "source": [
    "#Ans 5\n",
    "\n",
    "import zlib\n",
    "\n",
    "s = \"hello world!hello world!hello world!hello world!\"\n",
    "x = bytes(s, 'utf-8')\n",
    "t = zlib.compress(x)\n",
    "print(\"\\nCompress String\")\n",
    "print(t)\n",
    "print(\"\\ndecompress String\")\n",
    "print(zlib.decompress(t))\n"
   ]
  },
  {
   "cell_type": "markdown",
   "id": "543ead1b",
   "metadata": {},
   "source": [
    "Question 6:\n",
    "Please write a binary search function which searches an item in a sorted list. The function should return the index of element to be searched in the list.\n"
   ]
  },
  {
   "cell_type": "code",
   "execution_count": 8,
   "id": "efe7510d",
   "metadata": {},
   "outputs": [
    {
     "name": "stdout",
     "output_type": "stream",
     "text": [
      "17\n",
      "This element is not in this list\n"
     ]
    }
   ],
   "source": [
    "#Ans:6\n",
    "sort_list = [1,2,3,4,5,6,7,8,9,10,11,12,13,14,15,16,17,18,19,20]\n",
    "\n",
    "def bin_search(li, num):\n",
    "    low = 0\n",
    "    high = len(li) - 1\n",
    "    while low <= high:\n",
    "        mid = high + low//2\n",
    "        if li[mid] < num:\n",
    "            low = mid + 1\n",
    "        elif li[mid] > num:\n",
    "            high = mid - 1\n",
    "        else:\n",
    "            return mid\n",
    "    else:\n",
    "        return 'This element is not in this list'\n",
    "\n",
    "print(bin_search(sort_list, 18))\n",
    "print(bin_search(sort_list, 32))"
   ]
  },
  {
   "cell_type": "code",
   "execution_count": null,
   "id": "c9e0d591",
   "metadata": {},
   "outputs": [],
   "source": []
  }
 ],
 "metadata": {
  "kernelspec": {
   "display_name": "Python 3 (ipykernel)",
   "language": "python",
   "name": "python3"
  },
  "language_info": {
   "codemirror_mode": {
    "name": "ipython",
    "version": 3
   },
   "file_extension": ".py",
   "mimetype": "text/x-python",
   "name": "python",
   "nbconvert_exporter": "python",
   "pygments_lexer": "ipython3",
   "version": "3.9.7"
  }
 },
 "nbformat": 4,
 "nbformat_minor": 5
}
