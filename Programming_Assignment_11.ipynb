{
 "cells": [
  {
   "cell_type": "markdown",
   "id": "3f243043",
   "metadata": {},
   "source": [
    "Ques1.\tWrite a Python program to find words which are greater than given length k?"
   ]
  },
  {
   "cell_type": "code",
   "execution_count": 23,
   "id": "874ef6be",
   "metadata": {},
   "outputs": [
    {
     "name": "stdout",
     "output_type": "stream",
     "text": [
      "Enter a sentence: My name is abhishek Pandey\n",
      "Enter a number which are greater than given length 4\n",
      "['abhishek', 'Pandey']\n"
     ]
    }
   ],
   "source": [
    "#Ans:-1\n",
    "def find_length(n,l):\n",
    "    str = []\n",
    "    t = l.split() \n",
    "    for i in t:\n",
    "        if len(i)>n:\n",
    "            str.append(i)\n",
    "    return str\n",
    "l = input(\"Enter a sentence: \")\n",
    "n = int(input(\"Enter a number which are greater than given length \"))\n",
    "print(find_length(n,l))"
   ]
  },
  {
   "cell_type": "markdown",
   "id": "8db80f65",
   "metadata": {},
   "source": [
    "Ques2.\tWrite a Python program for removing i-th character from a string?"
   ]
  },
  {
   "cell_type": "code",
   "execution_count": 2,
   "id": "c97a005a",
   "metadata": {},
   "outputs": [
    {
     "name": "stdout",
     "output_type": "stream",
     "text": [
      "Enter a sentence: Abhishek Pandey\n",
      "Enter ith index number you to remove: 7\n",
      "Abhishk Pandey\n"
     ]
    }
   ],
   "source": [
    "#Ans:-2\n",
    "def remove_string(a,b):\n",
    "    x = a[0:b-1]\n",
    "    y = a[b:]\n",
    "    return(x+y)\n",
    "a = input(\"Enter a sentence: \")\n",
    "b = int(input(\"Enter ith index number you to remove: \"))\n",
    "print(remove_string(a,b))\n",
    "    "
   ]
  },
  {
   "cell_type": "code",
   "execution_count": null,
   "id": "961960d4",
   "metadata": {},
   "outputs": [],
   "source": [
    "a = input(\"Enter a sentence: \")\n",
    "n = int(input(\"Enter ith index number you to remove: \"))\n",
    "x = a[:n-1]\n",
    "print(x)"
   ]
  },
  {
   "cell_type": "code",
   "execution_count": null,
   "id": "a16a33df",
   "metadata": {},
   "outputs": [],
   "source": [
    "Ques:-3.\tWrite a Python program to split and join a string?"
   ]
  },
  {
   "cell_type": "code",
   "execution_count": 9,
   "id": "3cb20a6f",
   "metadata": {},
   "outputs": [
    {
     "name": "stdout",
     "output_type": "stream",
     "text": [
      "Enter a sentence: Hello All\n",
      "sentence after splits ['Hello', 'All']\n",
      "sentence after join Hello All\n"
     ]
    }
   ],
   "source": [
    "#Ans:-3\n",
    "def split_(sp):\n",
    "    a = sp.split()\n",
    "    return a\n",
    "def join_(a):\n",
    "    sp = ' '.join(a)\n",
    "    return sp\n",
    "sp = input(\"Enter a sentence: \")\n",
    "a = split_(sp)\n",
    "print('sentence after splits', a)\n",
    "new = join_(a)\n",
    "print('sentence after join',new)\n",
    "\n",
    "    "
   ]
  },
  {
   "cell_type": "markdown",
   "id": "b1ed3882",
   "metadata": {},
   "source": [
    "Ques:-4.\tWrite a Python to check if a given string is binary string or not?"
   ]
  },
  {
   "cell_type": "code",
   "execution_count": 14,
   "id": "b752262f",
   "metadata": {},
   "outputs": [
    {
     "name": "stdout",
     "output_type": "stream",
     "text": [
      "Enter a sentence: Abish01010132\n",
      "No it is not binary string:  Abish01010132\n"
     ]
    }
   ],
   "source": [
    "#Ans:-4\n",
    "def check(bin):\n",
    "    z = \"01\"\n",
    "    count = 0\n",
    "    for i in bin:\n",
    "        if i not in z:\n",
    "            count = 1\n",
    "            break\n",
    "        else:\n",
    "            pass\n",
    "    if count:\n",
    "        print(\"No it is not binary string: \",bin)\n",
    "    else:\n",
    "        print(\"Yes it is binary string: \",bin)\n",
    "\n",
    "bin = input(\"Enter a sentence: \")\n",
    "check(bin)"
   ]
  },
  {
   "cell_type": "markdown",
   "id": "2c0981f7",
   "metadata": {},
   "source": [
    "Ques:-5.\tWrite a Python program to find uncommon words from two Strings?"
   ]
  },
  {
   "cell_type": "code",
   "execution_count": 22,
   "id": "81513c8f",
   "metadata": {},
   "outputs": [
    {
     "name": "stdout",
     "output_type": "stream",
     "text": [
      "Enter a sentence: Abhishek Pandey\n",
      "Enter a sentence: Abhishek Tripathi\n",
      "uncommon words from two Strings is PandeyTripathi\n"
     ]
    }
   ],
   "source": [
    "#Ans:-5\n",
    "def uncommon_words(a,b):\n",
    "    x = a.split()\n",
    "    y = b.split()\n",
    "    count = ''\n",
    "    for i in x:\n",
    "        if i not in y:\n",
    "            count = count + i\n",
    "    for j in y:\n",
    "        if j not in x:\n",
    "            count = count + j\n",
    "    return count\n",
    "a = input(\"Enter a sentence: \")\n",
    "b = input(\"Enter a sentence: \")\n",
    "print('uncommon words from two Strings is',uncommon_words(a,b))\n"
   ]
  },
  {
   "cell_type": "code",
   "execution_count": null,
   "id": "9d09cdb2",
   "metadata": {},
   "outputs": [],
   "source": [
    "Ques:6.\tWrite a Python to find all duplicate characters in string?"
   ]
  },
  {
   "cell_type": "code",
   "execution_count": 3,
   "id": "067859da",
   "metadata": {},
   "outputs": [
    {
     "name": "stdout",
     "output_type": "stream",
     "text": [
      "Enter a sentence: Abhishek\n",
      "['A']\n"
     ]
    }
   ],
   "source": [
    "#Ans:-6\n",
    "def characters(a):\n",
    "    char = []\n",
    "    for i in a:\n",
    "        if i not in char:\n",
    "            char.append(i)\n",
    "        return char\n",
    "\n",
    "a = input(\"Enter a sentence: \")\n",
    "print(characters(a))"
   ]
  },
  {
   "cell_type": "code",
   "execution_count": null,
   "id": "53b6b4c3",
   "metadata": {},
   "outputs": [],
   "source": [
    "7.\tWrite a Python Program to check if a string contains any special character?"
   ]
  },
  {
   "cell_type": "code",
   "execution_count": 5,
   "id": "b85dce64",
   "metadata": {},
   "outputs": [
    {
     "name": "stdout",
     "output_type": "stream",
     "text": [
      "Enter a sentence: Abshasaud12@3434342()((\n",
      "string contains  special character\n",
      "None\n"
     ]
    }
   ],
   "source": [
    "#Ans:-7\n",
    "import re\n",
    "\n",
    "def special_character(pokemon):\n",
    "    spec = re.compile('[@_!#$%^&*()<>?/\\|}{~:]')\n",
    "    if spec.search(pokemon) == None:\n",
    "        print(\"string does not contains any special character\")\n",
    "    else:\n",
    "        print(\"string contains  special character\")\n",
    "pokemon = input(\"Enter a sentence: \")\n",
    "print(special_character(pokemon))"
   ]
  },
  {
   "cell_type": "code",
   "execution_count": null,
   "id": "823bbd59",
   "metadata": {},
   "outputs": [],
   "source": []
  },
  {
   "cell_type": "code",
   "execution_count": null,
   "id": "be6f2765",
   "metadata": {},
   "outputs": [],
   "source": []
  },
  {
   "cell_type": "code",
   "execution_count": null,
   "id": "d6c3a1d6",
   "metadata": {},
   "outputs": [],
   "source": []
  },
  {
   "cell_type": "code",
   "execution_count": null,
   "id": "60be4bb6",
   "metadata": {},
   "outputs": [],
   "source": []
  },
  {
   "cell_type": "code",
   "execution_count": null,
   "id": "2471006d",
   "metadata": {},
   "outputs": [],
   "source": []
  }
 ],
 "metadata": {
  "kernelspec": {
   "display_name": "Python 3",
   "language": "python",
   "name": "python3"
  },
  "language_info": {
   "codemirror_mode": {
    "name": "ipython",
    "version": 3
   },
   "file_extension": ".py",
   "mimetype": "text/x-python",
   "name": "python",
   "nbconvert_exporter": "python",
   "pygments_lexer": "ipython3",
   "version": "3.8.5"
  }
 },
 "nbformat": 4,
 "nbformat_minor": 5
}
