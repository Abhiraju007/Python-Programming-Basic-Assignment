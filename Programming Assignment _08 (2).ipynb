{
 "cells": [
  {
   "cell_type": "markdown",
   "id": "7c7c135a",
   "metadata": {},
   "source": [
    "Ques:-1.\tWrite a Python Program to Add Two Matrices?"
   ]
  },
  {
   "cell_type": "code",
   "execution_count": 6,
   "id": "c55d747f",
   "metadata": {},
   "outputs": [
    {
     "name": "stdout",
     "output_type": "stream",
     "text": [
      "[8, 10, 12, 14]\n",
      "[6, 8, 10, 12, 0]\n",
      "[17, 19, 21, 23, 0]\n"
     ]
    }
   ],
   "source": [
    "#Ans:-1\n",
    "A = [[1,2,3,4],[5,6,7,8,9],[10,11,12,13,14]]\n",
    "B = [[7,8,9,10],[1,2,3,4,5],[7,8,9,10,11]]\n",
    "Result =[[0,0,0,0],[0,0,0,0,0],[0,0,0,0,0]]\n",
    "for i in range(len(A)):\n",
    "    for j in range(len(A[0])):\n",
    "        Result[i][j] = A[i][j] + B[i][j]\n",
    "for Add in Result:\n",
    "    print(Add)\n",
    "        "
   ]
  },
  {
   "cell_type": "markdown",
   "id": "ea2d2531",
   "metadata": {},
   "source": [
    "Ques:-2.\tWrite a Python Program to Multiply Two Matrices?"
   ]
  },
  {
   "cell_type": "code",
   "execution_count": 8,
   "id": "7c889c1a",
   "metadata": {},
   "outputs": [
    {
     "name": "stdout",
     "output_type": "stream",
     "text": [
      "[7, 16, 27, 40]\n",
      "[5, 12, 21, 32, 0]\n",
      "[70, 88, 108, 130, 0]\n"
     ]
    }
   ],
   "source": [
    "#Ans:-2\n",
    "A = [[1,2,3,4],[5,6,7,8,9],[10,11,12,13,14]]\n",
    "B = [[7,8,9,10],[1,2,3,4,5],[7,8,9,10,11]]\n",
    "Result =[[0,0,0,0],[0,0,0,0,0],[0,0,0,0,0]]\n",
    "for i in range(len(A)):\n",
    "    for j in range(len(A[0])):\n",
    "        Result[i][j] = A[i][j]*B[i][j]\n",
    "for Mult in Result:\n",
    "    print(Mult)\n",
    "\n"
   ]
  },
  {
   "cell_type": "markdown",
   "id": "e365c46d",
   "metadata": {},
   "source": [
    "Ques:-3.\tWrite a Python Program to Transpose a Matrix?"
   ]
  },
  {
   "cell_type": "code",
   "execution_count": 29,
   "id": "0239df76",
   "metadata": {},
   "outputs": [
    {
     "name": "stdout",
     "output_type": "stream",
     "text": [
      "[1, 5, 10]\n",
      "[2, 6, 11]\n",
      "[3, 7, 12]\n"
     ]
    }
   ],
   "source": [
    "#Ans:-3\n",
    "A = [[1,2,3],[5,6,7],[10,11,12]]\n",
    "Result =[[0,0,0],[0,0,0],[0,0,0]]\n",
    "for i in range(len(A)):\n",
    "    for j in range(len(A[0])):\n",
    "        Result[j][i] = A[i][j]\n",
    "for Trans in Result:\n",
    "    print(Trans)\n"
   ]
  },
  {
   "cell_type": "markdown",
   "id": "b0b0ec14",
   "metadata": {},
   "source": [
    "Ques:-4.\tWrite a Python Program to Sort Words in Alphabetic Order?"
   ]
  },
  {
   "cell_type": "code",
   "execution_count": 44,
   "id": "cfe54ca6",
   "metadata": {},
   "outputs": [
    {
     "name": "stdout",
     "output_type": "stream",
     "text": [
      "Enter a  sentence: MY Name Is Abhishek Pandey\n",
      "Abhishek\n",
      "Is\n",
      "MY\n",
      "Name\n",
      "Pandey\n"
     ]
    }
   ],
   "source": [
    "#Ans:-4\n",
    "order = input(\"Enter a  sentence: \")\n",
    "string = order.split()\n",
    "string.sort()\n",
    "for word in string:\n",
    "    print(word)"
   ]
  },
  {
   "cell_type": "markdown",
   "id": "4bad86ce",
   "metadata": {},
   "source": [
    "Ques:-5.\tWrite a Python Program to Remove Punctuation From a String?"
   ]
  },
  {
   "cell_type": "code",
   "execution_count": 45,
   "id": "42992fca",
   "metadata": {},
   "outputs": [
    {
     "name": "stdout",
     "output_type": "stream",
     "text": [
      "Enter a sentence Hello, I'm Abhishek Pandey\n",
      " Hello Im Abhishek Pandey\n"
     ]
    }
   ],
   "source": [
    "#Ans:-5\n",
    "Punctuation = '''!()-[]{};:'\"\\,<>./?@#$%^&*_~'''\n",
    "string = input(\"Enter a sentence \")\n",
    "No_Punctuation = \" \"\n",
    "for i in string:\n",
    "    if i not in Punctuation:\n",
    "        No_Punctuation = No_Punctuation + i\n",
    "        \n",
    "print(No_Punctuation)\n",
    "    \n",
    "\n"
   ]
  },
  {
   "cell_type": "code",
   "execution_count": null,
   "id": "ca29341a",
   "metadata": {},
   "outputs": [],
   "source": []
  },
  {
   "cell_type": "code",
   "execution_count": null,
   "id": "abeb5437",
   "metadata": {},
   "outputs": [],
   "source": []
  },
  {
   "cell_type": "code",
   "execution_count": null,
   "id": "78d2554a",
   "metadata": {},
   "outputs": [],
   "source": []
  },
  {
   "cell_type": "code",
   "execution_count": null,
   "id": "879ed0f0",
   "metadata": {},
   "outputs": [],
   "source": []
  },
  {
   "cell_type": "code",
   "execution_count": null,
   "id": "cb39b94c",
   "metadata": {},
   "outputs": [],
   "source": []
  },
  {
   "cell_type": "code",
   "execution_count": null,
   "id": "e5240666",
   "metadata": {},
   "outputs": [],
   "source": []
  },
  {
   "cell_type": "code",
   "execution_count": null,
   "id": "0abe5dfa",
   "metadata": {},
   "outputs": [],
   "source": []
  },
  {
   "cell_type": "code",
   "execution_count": null,
   "id": "8a4190be",
   "metadata": {},
   "outputs": [],
   "source": []
  },
  {
   "cell_type": "code",
   "execution_count": null,
   "id": "0eef941b",
   "metadata": {},
   "outputs": [],
   "source": []
  },
  {
   "cell_type": "code",
   "execution_count": null,
   "id": "11e15a5f",
   "metadata": {},
   "outputs": [],
   "source": []
  },
  {
   "cell_type": "code",
   "execution_count": null,
   "id": "61e3d600",
   "metadata": {},
   "outputs": [],
   "source": []
  },
  {
   "cell_type": "code",
   "execution_count": null,
   "id": "4a3f168d",
   "metadata": {},
   "outputs": [],
   "source": []
  },
  {
   "cell_type": "code",
   "execution_count": null,
   "id": "7a37cae7",
   "metadata": {},
   "outputs": [],
   "source": []
  },
  {
   "cell_type": "code",
   "execution_count": null,
   "id": "67da57a8",
   "metadata": {},
   "outputs": [],
   "source": []
  },
  {
   "cell_type": "code",
   "execution_count": null,
   "id": "243775e5",
   "metadata": {},
   "outputs": [],
   "source": []
  },
  {
   "cell_type": "code",
   "execution_count": null,
   "id": "6a6607c2",
   "metadata": {},
   "outputs": [],
   "source": []
  },
  {
   "cell_type": "code",
   "execution_count": null,
   "id": "e433914e",
   "metadata": {},
   "outputs": [],
   "source": []
  },
  {
   "cell_type": "code",
   "execution_count": null,
   "id": "351f0323",
   "metadata": {},
   "outputs": [],
   "source": []
  },
  {
   "cell_type": "code",
   "execution_count": null,
   "id": "c2fd0020",
   "metadata": {},
   "outputs": [],
   "source": []
  },
  {
   "cell_type": "code",
   "execution_count": null,
   "id": "01024a82",
   "metadata": {},
   "outputs": [],
   "source": []
  },
  {
   "cell_type": "code",
   "execution_count": null,
   "id": "313a31a7",
   "metadata": {},
   "outputs": [],
   "source": []
  },
  {
   "cell_type": "code",
   "execution_count": null,
   "id": "9f23106e",
   "metadata": {},
   "outputs": [],
   "source": []
  },
  {
   "cell_type": "code",
   "execution_count": null,
   "id": "ad6b83c1",
   "metadata": {},
   "outputs": [],
   "source": []
  },
  {
   "cell_type": "code",
   "execution_count": null,
   "id": "8c3f55b0",
   "metadata": {},
   "outputs": [],
   "source": []
  },
  {
   "cell_type": "code",
   "execution_count": null,
   "id": "dfc3f2a9",
   "metadata": {},
   "outputs": [],
   "source": []
  },
  {
   "cell_type": "code",
   "execution_count": null,
   "id": "3d55151a",
   "metadata": {},
   "outputs": [],
   "source": []
  },
  {
   "cell_type": "code",
   "execution_count": null,
   "id": "c4c9d2a6",
   "metadata": {},
   "outputs": [],
   "source": []
  },
  {
   "cell_type": "code",
   "execution_count": null,
   "id": "4d5ddbdb",
   "metadata": {},
   "outputs": [],
   "source": []
  },
  {
   "cell_type": "code",
   "execution_count": null,
   "id": "f9188673",
   "metadata": {},
   "outputs": [],
   "source": []
  }
 ],
 "metadata": {
  "kernelspec": {
   "display_name": "Python 3",
   "language": "python",
   "name": "python3"
  },
  "language_info": {
   "codemirror_mode": {
    "name": "ipython",
    "version": 3
   },
   "file_extension": ".py",
   "mimetype": "text/x-python",
   "name": "python",
   "nbconvert_exporter": "python",
   "pygments_lexer": "ipython3",
   "version": "3.8.5"
  }
 },
 "nbformat": 4,
 "nbformat_minor": 5
}
