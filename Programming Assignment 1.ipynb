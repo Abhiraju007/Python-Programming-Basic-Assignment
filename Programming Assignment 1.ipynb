{
 "cells": [
  {
   "cell_type": "markdown",
   "metadata": {},
   "source": [
    "Ques1:-Write a Python program to print \"Hello Python\"?"
   ]
  },
  {
   "cell_type": "code",
   "execution_count": 1,
   "metadata": {},
   "outputs": [
    {
     "name": "stdout",
     "output_type": "stream",
     "text": [
      "Hello python\n"
     ]
    }
   ],
   "source": [
    "#Ans:-1\n",
    "print(\"Hello python\")"
   ]
  },
  {
   "cell_type": "markdown",
   "metadata": {},
   "source": [
    "Ques:-2 Write a Python program to do arithmetical operations addition and division.?"
   ]
  },
  {
   "cell_type": "code",
   "execution_count": 2,
   "metadata": {},
   "outputs": [
    {
     "name": "stdout",
     "output_type": "stream",
     "text": [
      "Enter First Digit:10\n",
      "Enter Second Digit:2.3\n",
      "addition of 10.0 and 2.3 is 12.3\n"
     ]
    }
   ],
   "source": [
    "#Ans:-2\n",
    "#Addition\n",
    "a = float(input('Enter First Digit:'))\n",
    "b = float(input('Enter Second Digit:'))       \n",
    "sum = a + b\n",
    "print('addition of {} and {} is {}'.format(a,b,sum))"
   ]
  },
  {
   "cell_type": "code",
   "execution_count": 9,
   "metadata": {},
   "outputs": [
    {
     "name": "stdout",
     "output_type": "stream",
     "text": [
      "Enter First Digit:7\n",
      "Enter Second Digit:7\n",
      "Divison of 7.0 and 7.0 is 1.0\n"
     ]
    }
   ],
   "source": [
    "#Divison\n",
    "a = float(input('Enter First Digit:'))\n",
    "b = float(input('Enter Second Digit:'))       \n",
    "Division = a/b\n",
    "print('Division of {} and {} is {}'.format(a,b,Division))"
   ]
  },
  {
   "cell_type": "markdown",
   "metadata": {},
   "source": [
    "Ques:-3.\tWrite a Python program to find the area of a triangle?"
   ]
  },
  {
   "cell_type": "code",
   "execution_count": 11,
   "metadata": {},
   "outputs": [
    {
     "name": "stdout",
     "output_type": "stream",
     "text": [
      "Enter First Side of Triangle:4\n",
      "Enter Second Side of Triangle:7\n",
      "Area of Triangle side4.0 and side7.0 is 14.0\n"
     ]
    }
   ],
   "source": [
    "#Ans:-3\n",
    "a = float(input('Enter First Side of Triangle:'))\n",
    "b = float(input('Enter Second Side of Triangle:'))       \n",
    "Area = 0.5*(a*b)\n",
    "print('Area of Triangle side{} and side{} is {}'.format(a,b,Area))"
   ]
  },
  {
   "cell_type": "markdown",
   "metadata": {},
   "source": [
    "Ques:-4.\tWrite a Python program to swap two variables"
   ]
  },
  {
   "cell_type": "code",
   "execution_count": 14,
   "metadata": {},
   "outputs": [
    {
     "name": "stdout",
     "output_type": "stream",
     "text": [
      "Enter First Digit:4\n",
      "Enter Second Digit:6\n",
      "Value of 6.0 after swapping is 4.0\n",
      "Value of 4.0 after swapping is 6.0\n"
     ]
    }
   ],
   "source": [
    "#Ans:-4\n",
    "a = float(input('Enter First Digit:'))\n",
    "b = float(input('Enter Second Digit:'))\n",
    "x = a\n",
    "a = b\n",
    "b = x\n",
    "print('Value of {} after swapping is {}'.format(a,b))\n",
    "print('Value of {} after swapping is {}'.format(b,a))"
   ]
  },
  {
   "cell_type": "markdown",
   "metadata": {},
   "source": [
    "Ques:-5.\tWrite a Python program to generate a random number?"
   ]
  },
  {
   "cell_type": "code",
   "execution_count": 36,
   "metadata": {},
   "outputs": [
    {
     "name": "stdout",
     "output_type": "stream",
     "text": [
      "[28]\n"
     ]
    }
   ],
   "source": [
    "#Ans:-5\n",
    "import random\n",
    "randomlist = []\n",
    "for i in range(1,100):\n",
    "    n = random.randint(1,100)\n",
    "randomlist.append(n)\n",
    "print(randomlist)"
   ]
  },
  {
   "cell_type": "code",
   "execution_count": null,
   "metadata": {},
   "outputs": [],
   "source": []
  },
  {
   "cell_type": "code",
   "execution_count": null,
   "metadata": {},
   "outputs": [],
   "source": []
  },
  {
   "cell_type": "code",
   "execution_count": null,
   "metadata": {},
   "outputs": [],
   "source": []
  }
 ],
 "metadata": {
  "kernelspec": {
   "display_name": "Python 3",
   "language": "python",
   "name": "python3"
  },
  "language_info": {
   "codemirror_mode": {
    "name": "ipython",
    "version": 3
   },
   "file_extension": ".py",
   "mimetype": "text/x-python",
   "name": "python",
   "nbconvert_exporter": "python",
   "pygments_lexer": "ipython3",
   "version": "3.8.5"
  }
 },
 "nbformat": 4,
 "nbformat_minor": 4
}
